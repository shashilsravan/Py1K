{
 "cells": [
  {
   "cell_type": "markdown",
   "metadata": {},
   "source": [
    "## Automate parsing and Renaming of multiple files"
   ]
  },
  {
   "cell_type": "code",
   "execution_count": 20,
   "metadata": {},
   "outputs": [],
   "source": [
    "# First let's load the libraries and change the directory to the folder containing some random files\n",
    "import os\n",
    "os.chdir('Random Files')"
   ]
  },
  {
   "cell_type": "code",
   "execution_count": 21,
   "metadata": {},
   "outputs": [
    {
     "data": {
      "text/plain": [
       "'C:\\\\Users\\\\SRAVAN\\\\Random Files'"
      ]
     },
     "execution_count": 21,
     "metadata": {},
     "output_type": "execute_result"
    }
   ],
   "source": [
    "# Check the current working directory after changing to make sure it is changed\n",
    "os.getcwd()"
   ]
  },
  {
   "cell_type": "code",
   "execution_count": 22,
   "metadata": {},
   "outputs": [
    {
     "data": {
      "text/plain": [
       "['New Text Document - Copy (1).txt',\n",
       " 'New Text Document - Copy (2).txt',\n",
       " 'New Text Document - Copy (3).txt',\n",
       " 'New Text Document - Copy (4).txt',\n",
       " 'New Text Document - Copy (5).txt',\n",
       " 'New Text Document - Copy (6).txt',\n",
       " 'New Text Document - Copy (7).txt',\n",
       " 'New Text Document - Copy (8).txt',\n",
       " 'New Text Document - Copy (9).txt']"
      ]
     },
     "execution_count": 22,
     "metadata": {},
     "output_type": "execute_result"
    }
   ],
   "source": [
    "# Now let us see the files in the directory\n",
    "os.listdir()"
   ]
  },
  {
   "cell_type": "code",
   "execution_count": 23,
   "metadata": {},
   "outputs": [
    {
     "name": "stdout",
     "output_type": "stream",
     "text": [
      "File name: New Text Document - Copy (1) | And extension is: .txt\n",
      "File name: New Text Document - Copy (2) | And extension is: .txt\n",
      "File name: New Text Document - Copy (3) | And extension is: .txt\n",
      "File name: New Text Document - Copy (4) | And extension is: .txt\n",
      "File name: New Text Document - Copy (5) | And extension is: .txt\n",
      "File name: New Text Document - Copy (6) | And extension is: .txt\n",
      "File name: New Text Document - Copy (7) | And extension is: .txt\n",
      "File name: New Text Document - Copy (8) | And extension is: .txt\n",
      "File name: New Text Document - Copy (9) | And extension is: .txt\n"
     ]
    }
   ],
   "source": [
    "# let's split out the extensions and name of the files\n",
    "for file in os.listdir():\n",
    "    (file_name, extension) = os.path.splitext(file)\n",
    "    print(\"File name:\", file_name, \"| And extension is:\", extension)"
   ]
  },
  {
   "cell_type": "code",
   "execution_count": 43,
   "metadata": {},
   "outputs": [
    {
     "name": "stdout",
     "output_type": "stream",
     "text": [
      "SS #01 - New Text Document.txt\n",
      "SS #02 - New Text Document.txt\n",
      "SS #03 - New Text Document.txt\n",
      "SS #04 - New Text Document.txt\n",
      "SS #05 - New Text Document.txt\n",
      "SS #06 - New Text Document.txt\n",
      "SS #07 - New Text Document.txt\n",
      "SS #08 - New Text Document.txt\n",
      "SS #09 - New Text Document.txt\n"
     ]
    }
   ],
   "source": [
    "# Now lets print out the format of the whiles we want to change\n",
    "for file in os.listdir():\n",
    "    (file_name, extension) = os.path.splitext(file)\n",
    "    file_title, file_num = file_name.split('-')\n",
    "    # To remove extra spaces\n",
    "    file_title = file_title.strip()\n",
    "    print('SS #{} - {}{}'.format(file_num.split()[1][1:-1].zfill(2), file_title, extension))"
   ]
  },
  {
   "cell_type": "code",
   "execution_count": 44,
   "metadata": {},
   "outputs": [],
   "source": [
    "# Now lets rename the files in the way we want\n",
    "for file in os.listdir():\n",
    "    (file_name, extension) = os.path.splitext(file)\n",
    "    file_title, file_num = file_name.split('-')\n",
    "    file_title = file_title.strip()\n",
    "    modification = 'SS #{} - {}{}'.format(file_num.split()[1][1:-1].zfill(2), file_title, extension)\n",
    "    os.rename(file, modification)"
   ]
  },
  {
   "cell_type": "code",
   "execution_count": 45,
   "metadata": {},
   "outputs": [
    {
     "data": {
      "text/plain": [
       "['SS #01 - New Text Document.txt',\n",
       " 'SS #02 - New Text Document.txt',\n",
       " 'SS #03 - New Text Document.txt',\n",
       " 'SS #04 - New Text Document.txt',\n",
       " 'SS #05 - New Text Document.txt',\n",
       " 'SS #06 - New Text Document.txt',\n",
       " 'SS #07 - New Text Document.txt',\n",
       " 'SS #08 - New Text Document.txt',\n",
       " 'SS #09 - New Text Document.txt']"
      ]
     },
     "execution_count": 45,
     "metadata": {},
     "output_type": "execute_result"
    }
   ],
   "source": [
    "# Let's check if the name of these files are changed\n",
    "os.listdir()"
   ]
  },
  {
   "cell_type": "markdown",
   "metadata": {},
   "source": [
    "## Using random module"
   ]
  },
  {
   "cell_type": "code",
   "execution_count": 1,
   "metadata": {},
   "outputs": [],
   "source": [
    "# Importing libraries\n",
    "import random"
   ]
  },
  {
   "cell_type": "code",
   "execution_count": 56,
   "metadata": {},
   "outputs": [
    {
     "name": "stdout",
     "output_type": "stream",
     "text": [
      "Some random number: 0.1712973044381304\n"
     ]
    }
   ],
   "source": [
    "# random() method can be used to get numbers from 0 to 1 (1 is exclusive, so upto 0.9999..)\n",
    "print(\"Some random number:\",random.random())"
   ]
  },
  {
   "cell_type": "code",
   "execution_count": 57,
   "metadata": {},
   "outputs": [
    {
     "name": "stdout",
     "output_type": "stream",
     "text": [
      "Let's print a random number between 10 and 20: 14.589474733594418\n"
     ]
    }
   ],
   "source": [
    "# Uniform() method could be used to get a number between a and b\n",
    "print(\"Let's print a random number between 10 and 20:\", random.uniform(10, 20))"
   ]
  },
  {
   "cell_type": "code",
   "execution_count": 59,
   "metadata": {},
   "outputs": [
    {
     "name": "stdout",
     "output_type": "stream",
     "text": [
      "Random integer between 5 and 12: 12\n"
     ]
    }
   ],
   "source": [
    "# To get a random integer we can use randint method\n",
    "print(\"Random integer between 5 and 12:\", random.randint(5, 12)) # both a and b are inclusive in these case"
   ]
  },
  {
   "cell_type": "code",
   "execution_count": 66,
   "metadata": {},
   "outputs": [
    {
     "data": {
      "text/plain": [
       "'Hi sravan!. Have a great day!'"
      ]
     },
     "execution_count": 66,
     "metadata": {},
     "output_type": "execute_result"
    }
   ],
   "source": [
    "# Choice() method can be used to pick a random element in a list\n",
    "\n",
    "greetings = ['Good morning!', 'Good evening!', 'Good night', 'Have a great day!']\n",
    "'Hi sravan!. ' + random.choice(greetings)"
   ]
  },
  {
   "cell_type": "code",
   "execution_count": 72,
   "metadata": {},
   "outputs": [
    {
     "name": "stdout",
     "output_type": "stream",
     "text": [
      "['Tails', 'Tails', 'Tails', 'Heads', 'Heads', 'Tails', 'Tails', 'Tails', 'Tails', 'Tails']\n"
     ]
    }
   ],
   "source": [
    "# Picking k occurances or random results from a list\n",
    "chance = ['Heads', 'Tails']\n",
    "\n",
    "# Let's get 10 random results from the chance list\n",
    "print(random.choices(chance, k = 10))"
   ]
  },
  {
   "cell_type": "code",
   "execution_count": 76,
   "metadata": {},
   "outputs": [
    {
     "name": "stdout",
     "output_type": "stream",
     "text": [
      "['Tails', 'Heads', 'Heads', 'Heads', 'Heads', 'Heads', 'Heads', 'Heads', 'Heads', 'Heads']\n"
     ]
    }
   ],
   "source": [
    "# You can set weights to get results in favour\n",
    "# For example let's give more weightage to the head than the tails\n",
    "print(random.choices(chance, k = 10, weights = [9, 1]))"
   ]
  },
  {
   "cell_type": "markdown",
   "metadata": {},
   "source": [
    "You can see atleast 9/10 probability to get heads. You can print multiple times to make sure"
   ]
  },
  {
   "cell_type": "code",
   "execution_count": 6,
   "metadata": {},
   "outputs": [
    {
     "name": "stdout",
     "output_type": "stream",
     "text": [
      "[1, 2, 3, 4, 5, 6, 7, 8, 9, 10, 11, 12, 13, 14, 15, 16, 17, 18, 19, 20, 21, 22, 23, 24, 25, 26, 27, 28, 29, 30, 31, 32, 33, 34, 35, 36, 37, 38, 39, 40, 41, 42, 43, 44, 45, 46, 47, 48, 49]\n"
     ]
    }
   ],
   "source": [
    "# Let's randomly shuffle the list values\n",
    "\n",
    "# Let's create a list of numbers from 1 to 50\n",
    "nums = [num for num in range(1, 50)]\n",
    "# And print the list\n",
    "print(nums)"
   ]
  },
  {
   "cell_type": "code",
   "execution_count": 8,
   "metadata": {},
   "outputs": [
    {
     "name": "stdout",
     "output_type": "stream",
     "text": [
      "[28, 16, 38, 39, 2, 42, 26, 37, 25, 23, 5, 35, 10, 21, 29, 36, 1, 49, 40, 18, 22, 30, 41, 15, 4, 24, 19, 6, 14, 31, 11, 27, 45, 44, 3, 47, 46, 32, 17, 34, 7, 43, 33, 13, 9, 20, 48, 8, 12]\n"
     ]
    }
   ],
   "source": [
    "# Now let's shuffle the list elements\n",
    "random.shuffle(nums)\n",
    "print(nums)"
   ]
  },
  {
   "cell_type": "code",
   "execution_count": 16,
   "metadata": {},
   "outputs": [
    {
     "name": "stdout",
     "output_type": "stream",
     "text": [
      "[26, 18, 12, 8, 19]\n"
     ]
    }
   ],
   "source": [
    "# To get random n 'unique' numbers from list\n",
    "print(random.sample(nums, k=5))"
   ]
  }
 ],
 "metadata": {
  "kernelspec": {
   "display_name": "Python 3",
   "language": "python",
   "name": "python3"
  },
  "language_info": {
   "codemirror_mode": {
    "name": "ipython",
    "version": 3
   },
   "file_extension": ".py",
   "mimetype": "text/x-python",
   "name": "python",
   "nbconvert_exporter": "python",
   "pygments_lexer": "ipython3",
   "version": "3.7.3"
  }
 },
 "nbformat": 4,
 "nbformat_minor": 4
}
