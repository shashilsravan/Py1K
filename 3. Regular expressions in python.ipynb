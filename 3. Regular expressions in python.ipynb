{
 "cells": [
  {
   "cell_type": "code",
   "execution_count": 1,
   "metadata": {},
   "outputs": [],
   "source": [
    "# Let's import libraries\n",
    "import re"
   ]
  },
  {
   "cell_type": "code",
   "execution_count": 16,
   "metadata": {},
   "outputs": [],
   "source": [
    "text_to_search = \"\"\"\n",
    "@1#\n",
    "Talent – an apparently heartening term that has followed Rohit Sharma around like a shadow; \n",
    "even haunted him at times. It seems to be a burden that the cricketing fraternity has enforced upon him and, \n",
    "after more than a decade in the national setting, he has been weighed down by the label.\n",
    "\n",
    "@2#\n",
    "Harsha Bhogle spoke of whispers in the domestic circuit; of coaches and scouts spotting the effortless, \n",
    "free-flowing stroke-play of a Mumbai teenager. Having cruised through first-class cricket, with an average well above 50, \n",
    "he shot to the limelight when he scored a brisk unbeaten triple-hundred at the Ranji level.\n",
    "\n",
    "@3#\n",
    "The IPL has done a lot for rohit Sharma. \n",
    "When he was a young, talented batsman who struggled with consistency, \n",
    "the IPL gave him a ticket to stay relevant, and he grabbed it with both hands \n",
    "during his time with the Deccan Chargers from 2008-2010, scoring over 350 runs in each of the three seasons. \n",
    "Then the IPL took him back to his home of Mumbai, and Rohit couldn't have been happier. \n",
    "His statistics with the Mumbai Indians got progressively better from 2011-13, and \n",
    "eventually his best IPL season in 2013 - where he finished the tournament with 538 runs - coincided with MI's maiden title win.\n",
    "\n",
    "@4#\n",
    "His stats:\n",
    "Batting Career Summary of rohit sharma\n",
    "Number of 100's - 39\n",
    "Number of 50's - 74\n",
    "Highest scores - 264, 212, 209, 208\n",
    "\n",
    "@5#\n",
    "Another favourite players are:\n",
    "1. Bumrah\n",
    "2. Kohli\n",
    "3. Pandya\n",
    "4. Malinga\n",
    "5. Pollard\n",
    "\"\"\""
   ]
  },
  {
   "cell_type": "code",
   "execution_count": 10,
   "metadata": {},
   "outputs": [
    {
     "name": "stdout",
     "output_type": "stream",
     "text": [
      "Hi \n",
      "Hello \t It is distant\n",
      "Hi \\nHello \\t It is distant\n"
     ]
    }
   ],
   "source": [
    "# Differeence between Normal string and Raw String\n",
    "\n",
    "# Normal string\n",
    "print('Hi \\nHello \\t It is distant')\n",
    "# Raw string\n",
    "print(r'Hi \\nHello \\t It is distant')"
   ]
  },
  {
   "cell_type": "code",
   "execution_count": 17,
   "metadata": {},
   "outputs": [
    {
     "name": "stdout",
     "output_type": "stream",
     "text": [
      "<re.Match object; span=(62, 67), match='Rohit'>\n",
      "<re.Match object; span=(983, 988), match='Rohit'>\n"
     ]
    }
   ],
   "source": [
    "# Let's create patterns\n",
    "pattern = re.compile(r'Rohit')\n",
    "\n",
    "# Lets check the above pattern in out text_to_search string\n",
    "matches = pattern.finditer(text_to_search)\n",
    "for each in matches:\n",
    "    print(each)"
   ]
  },
  {
   "cell_type": "code",
   "execution_count": 23,
   "metadata": {},
   "outputs": [
    {
     "name": "stdout",
     "output_type": "stream",
     "text": [
      "<re.Match object; span=(1, 2), match='@'>\n",
      "<re.Match object; span=(2, 3), match='1'>\n",
      "<re.Match object; span=(3, 4), match='#'>\n",
      "<re.Match object; span=(5, 6), match='T'>\n",
      "<re.Match object; span=(6, 7), match='a'>\n",
      "<re.Match object; span=(7, 8), match='l'>\n",
      "<re.Match object; span=(8, 9), match='e'>\n",
      "<re.Match object; span=(9, 10), match='n'>\n",
      "<re.Match object; span=(10, 11), match='t'>\n",
      "<re.Match object; span=(11, 12), match=' '>\n"
     ]
    }
   ],
   "source": [
    "# . matches any charecter except newline\n",
    "\n",
    "# Let's create patterns\n",
    "pattern = re.compile(r'.')\n",
    "\n",
    "# Lets check the above pattern in out text_to_search string\n",
    "matches = pattern.finditer(text_to_search)\n",
    "# Let's print only first 10 results\n",
    "i = 0\n",
    "for each in matches:\n",
    "    print(each)\n",
    "    i+=1\n",
    "    if i == 10:\n",
    "        break"
   ]
  },
  {
   "cell_type": "code",
   "execution_count": 25,
   "metadata": {},
   "outputs": [
    {
     "name": "stdout",
     "output_type": "stream",
     "text": [
      "<re.Match object; span=(2, 3), match='1'>\n",
      "<re.Match object; span=(299, 300), match='2'>\n",
      "<re.Match object; span=(525, 526), match='5'>\n",
      "<re.Match object; span=(526, 527), match='0'>\n",
      "<re.Match object; span=(624, 625), match='3'>\n",
      "<re.Match object; span=(865, 866), match='2'>\n",
      "<re.Match object; span=(866, 867), match='0'>\n",
      "<re.Match object; span=(867, 868), match='0'>\n",
      "<re.Match object; span=(868, 869), match='8'>\n",
      "<re.Match object; span=(870, 871), match='2'>\n"
     ]
    }
   ],
   "source": [
    "# \\d matches any digits\n",
    "\n",
    "# Let's create patterns\n",
    "pattern = re.compile(r'\\d')\n",
    "\n",
    "# Lets check the above pattern in out text_to_search string\n",
    "matches = pattern.finditer(text_to_search)\n",
    "# Let's print only first 10 results\n",
    "i = 0\n",
    "for each in matches:\n",
    "    print(each)\n",
    "    i+=1\n",
    "    if i == 10:\n",
    "        break"
   ]
  },
  {
   "cell_type": "code",
   "execution_count": 27,
   "metadata": {},
   "outputs": [
    {
     "name": "stdout",
     "output_type": "stream",
     "text": [
      "<re.Match object; span=(0, 1), match='\\n'>\n",
      "<re.Match object; span=(1, 2), match='@'>\n",
      "<re.Match object; span=(3, 4), match='#'>\n",
      "<re.Match object; span=(4, 5), match='\\n'>\n",
      "<re.Match object; span=(5, 6), match='T'>\n",
      "<re.Match object; span=(6, 7), match='a'>\n",
      "<re.Match object; span=(7, 8), match='l'>\n",
      "<re.Match object; span=(8, 9), match='e'>\n",
      "<re.Match object; span=(9, 10), match='n'>\n",
      "<re.Match object; span=(10, 11), match='t'>\n"
     ]
    }
   ],
   "source": [
    "# \\D matches any thing that is not a digit\n",
    "\n",
    "# Let's create patterns\n",
    "pattern = re.compile(r'\\D')\n",
    "\n",
    "# Lets check the above pattern in out text_to_search string\n",
    "matches = pattern.finditer(text_to_search)\n",
    "# Let's print only first 10 results\n",
    "i = 0\n",
    "for each in matches:\n",
    "    print(each)\n",
    "    i+=1\n",
    "    if i == 10:\n",
    "        break"
   ]
  },
  {
   "cell_type": "code",
   "execution_count": 28,
   "metadata": {},
   "outputs": [
    {
     "name": "stdout",
     "output_type": "stream",
     "text": [
      "<re.Match object; span=(2, 3), match='1'>\n",
      "<re.Match object; span=(5, 6), match='T'>\n",
      "<re.Match object; span=(6, 7), match='a'>\n",
      "<re.Match object; span=(7, 8), match='l'>\n",
      "<re.Match object; span=(8, 9), match='e'>\n",
      "<re.Match object; span=(9, 10), match='n'>\n",
      "<re.Match object; span=(10, 11), match='t'>\n",
      "<re.Match object; span=(14, 15), match='a'>\n",
      "<re.Match object; span=(15, 16), match='n'>\n",
      "<re.Match object; span=(17, 18), match='a'>\n"
     ]
    }
   ],
   "source": [
    "# \\w matches any word charecter [(a-z)(A-Z)(0-9)_]\n",
    "\n",
    "# Let's create patterns\n",
    "pattern = re.compile(r'\\w')\n",
    "\n",
    "# Lets check the above pattern in out text_to_search string\n",
    "matches = pattern.finditer(text_to_search)\n",
    "# Let's print only first 10 results\n",
    "i = 0\n",
    "for each in matches:\n",
    "    print(each)\n",
    "    i+=1\n",
    "    if i == 10:\n",
    "        break"
   ]
  },
  {
   "cell_type": "code",
   "execution_count": 29,
   "metadata": {},
   "outputs": [
    {
     "name": "stdout",
     "output_type": "stream",
     "text": [
      "<re.Match object; span=(0, 1), match='\\n'>\n",
      "<re.Match object; span=(1, 2), match='@'>\n",
      "<re.Match object; span=(3, 4), match='#'>\n",
      "<re.Match object; span=(4, 5), match='\\n'>\n",
      "<re.Match object; span=(11, 12), match=' '>\n",
      "<re.Match object; span=(12, 13), match='–'>\n",
      "<re.Match object; span=(13, 14), match=' '>\n",
      "<re.Match object; span=(16, 17), match=' '>\n",
      "<re.Match object; span=(27, 28), match=' '>\n",
      "<re.Match object; span=(38, 39), match=' '>\n"
     ]
    }
   ],
   "source": [
    "# \\W matches any thing except word charecter [(a-z)(A-Z)(0-9)_]\n",
    "\n",
    "# Let's create patterns\n",
    "pattern = re.compile(r'\\W')\n",
    "\n",
    "# Lets check the above pattern in out text_to_search string\n",
    "matches = pattern.finditer(text_to_search)\n",
    "# Let's print only first 10 results\n",
    "i = 0\n",
    "for each in matches:\n",
    "    print(each)\n",
    "    i+=1\n",
    "    if i == 10:\n",
    "        break"
   ]
  },
  {
   "cell_type": "code",
   "execution_count": null,
   "metadata": {},
   "outputs": [],
   "source": [
    "# \\W matches any thing except word charecter [(a-z)(A-Z)(0-9)_]\n",
    "\n",
    "# Let's create patterns\n",
    "pattern = re.compile(r'\\W')\n",
    "\n",
    "# Lets check the above pattern in out text_to_search string\n",
    "matches = pattern.finditer(text_to_search)\n",
    "# Let's print only first 10 results\n",
    "i = 0\n",
    "for each in matches:\n",
    "    print(each)\n",
    "    i+=1\n",
    "    if i == 10:\n",
    "        break"
   ]
  },
  {
   "cell_type": "markdown",
   "metadata": {},
   "source": [
    "similarly \n",
    "1. \\s is used for whitespaces\n",
    "2. \\S is used for anything except whitespaces\n",
    "3. \\b is used for word boundary\n",
    "4. \\B is used for anything except word boundary"
   ]
  },
  {
   "cell_type": "code",
   "execution_count": 39,
   "metadata": {},
   "outputs": [
    {
     "name": "stdout",
     "output_type": "stream",
     "text": [
      "<re.Match object; span=(22, 35), match='+919999999999'>\n"
     ]
    }
   ],
   "source": [
    "# Lets create a regex to find phone numbers\n",
    "sentence = 'Hi my phone number is +919999999999 which has 10 number of 9\"s and numbers like 12345678 are not there'\n",
    "pattern = re.compile(r'\\+91.{10}')\n",
    "matches = pattern.finditer(sentence)\n",
    "for match in matches:\n",
    "    print(match)"
   ]
  },
  {
   "cell_type": "code",
   "execution_count": 41,
   "metadata": {},
   "outputs": [
    {
     "name": "stdout",
     "output_type": "stream",
     "text": [
      "<re.Match object; span=(23, 27), match='9199'>\n",
      "<re.Match object; span=(27, 31), match='9999'>\n",
      "<re.Match object; span=(31, 35), match='9999'>\n",
      "<re.Match object; span=(80, 84), match='1234'>\n",
      "<re.Match object; span=(84, 88), match='5678'>\n"
     ]
    }
   ],
   "source": [
    "# Let's match a string which contains 4 digits\n",
    "sentence = 'Hi my phone number is +919999999999 which has 10 number of 9\"s and numbers like 12345678 are not there'\n",
    "pattern = re.compile(r'\\d\\d\\d\\d')\n",
    "matches = pattern.finditer(sentence)\n",
    "for match in matches:\n",
    "    print(match)"
   ]
  },
  {
   "cell_type": "code",
   "execution_count": 43,
   "metadata": {},
   "outputs": [
    {
     "name": "stdout",
     "output_type": "stream",
     "text": [
      "<re.Match object; span=(24, 26), match='19'>\n",
      "<re.Match object; span=(46, 48), match='10'>\n",
      "<re.Match object; span=(80, 82), match='12'>\n"
     ]
    }
   ],
   "source": [
    "sentence = 'Hi my phone number is +919999999999 which has 10 number of 9\"s and numbers like 12345678 are not there'\n",
    "pattern = re.compile(r'1[0129]')\n",
    "matches = pattern.finditer(sentence)\n",
    "for match in matches:\n",
    "    print(match)"
   ]
  },
  {
   "cell_type": "code",
   "execution_count": 49,
   "metadata": {},
   "outputs": [
    {
     "name": "stdout",
     "output_type": "stream",
     "text": [
      "<re.Match object; span=(24, 25), match='1'>\n",
      "<re.Match object; span=(46, 47), match='1'>\n",
      "<re.Match object; span=(80, 81), match='1'>\n",
      "<re.Match object; span=(81, 82), match='2'>\n",
      "<re.Match object; span=(82, 83), match='3'>\n",
      "<re.Match object; span=(83, 84), match='4'>\n",
      "<re.Match object; span=(84, 85), match='5'>\n"
     ]
    }
   ],
   "source": [
    "sentence = 'Hi my phone number is +919999999999 which has 10 number of 9\"s and numbers like 12345678 are not there'\n",
    "pattern = re.compile(r'[1-5]')\n",
    "matches = pattern.finditer(sentence)\n",
    "for match in matches:\n",
    "    print(match)"
   ]
  },
  {
   "cell_type": "markdown",
   "metadata": {},
   "source": [
    "Quantifiers  \n",
    "\\* means 0 or more  \n",
    "\\+ means 1 or more  \n",
    "? means 0 or 1  \n",
    "{5} exact range  \n",
    "{a, b} from range a to b  "
   ]
  },
  {
   "cell_type": "code",
   "execution_count": 55,
   "metadata": {},
   "outputs": [
    {
     "name": "stdout",
     "output_type": "stream",
     "text": [
      "<re.Match object; span=(1, 11), match='Mr. Sachin'>\n",
      "<re.Match object; span=(12, 21), match='Mr sharma'>\n",
      "<re.Match object; span=(22, 32), match='Ms rithika'>\n",
      "<re.Match object; span=(33, 43), match='Mrs. Kohli'>\n",
      "<re.Match object; span=(44, 49), match='Mr. S'>\n"
     ]
    }
   ],
   "source": [
    "sentence = \"\"\"\n",
    "Mr. Sachin\n",
    "Mr sharma\n",
    "Ms rithika\n",
    "Mrs. Kohli\n",
    "Mr. S\n",
    "\"\"\"\n",
    "pattern = re.compile(r'M(r|s|rs)\\.?\\s[A-Za-z]?\\w*')\n",
    "matches = pattern.finditer(sentence)\n",
    "for match in matches:\n",
    "    print(match)"
   ]
  },
  {
   "cell_type": "code",
   "execution_count": 69,
   "metadata": {},
   "outputs": [
    {
     "name": "stdout",
     "output_type": "stream",
     "text": [
      "<re.Match object; span=(1, 24), match='shashilSravan@gmail.com'>\n",
      "<re.Match object; span=(45, 75), match='SravanShashil@personalmail.net'>\n",
      "<re.Match object; span=(76, 96), match='SomeNamE@another.com'>\n"
     ]
    }
   ],
   "source": [
    "mails = \"\"\"\n",
    "shashilSravan@gmail.com\n",
    "sravan@rguktn.ac.in\n",
    "SravanShashil@personalmail.net\n",
    "SomeNamE@another.com\n",
    "\"\"\"\n",
    "pattern = re.compile(r'[a-zA-z]+@[a-zA-Z]+\\.(com|net)')\n",
    "matches = pattern.finditer(mails)\n",
    "for match in matches:\n",
    "    print(match)"
   ]
  }
 ],
 "metadata": {
  "kernelspec": {
   "display_name": "Python 3",
   "language": "python",
   "name": "python3"
  },
  "language_info": {
   "codemirror_mode": {
    "name": "ipython",
    "version": 3
   },
   "file_extension": ".py",
   "mimetype": "text/x-python",
   "name": "python",
   "nbconvert_exporter": "python",
   "pygments_lexer": "ipython3",
   "version": "3.7.3"
  }
 },
 "nbformat": 4,
 "nbformat_minor": 4
}
