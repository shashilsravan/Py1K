{
 "cells": [
  {
   "cell_type": "markdown",
   "metadata": {},
   "source": [
    "### Using OS module in python"
   ]
  },
  {
   "cell_type": "code",
   "execution_count": 1,
   "metadata": {},
   "outputs": [
    {
     "name": "stdout",
     "output_type": "stream",
     "text": [
      "['DirEntry', 'F_OK', 'MutableMapping', 'O_APPEND', 'O_BINARY', 'O_CREAT', 'O_EXCL', 'O_NOINHERIT', 'O_RANDOM', 'O_RDONLY', 'O_RDWR', 'O_SEQUENTIAL', 'O_SHORT_LIVED', 'O_TEMPORARY', 'O_TEXT', 'O_TRUNC', 'O_WRONLY', 'P_DETACH', 'P_NOWAIT', 'P_NOWAITO', 'P_OVERLAY', 'P_WAIT', 'PathLike', 'R_OK', 'SEEK_CUR', 'SEEK_END', 'SEEK_SET', 'TMP_MAX', 'W_OK', 'X_OK', '_Environ', '__all__', '__builtins__', '__cached__', '__doc__', '__file__', '__loader__', '__name__', '__package__', '__spec__', '_execvpe', '_exists', '_exit', '_fspath', '_get_exports_list', '_putenv', '_unsetenv', '_wrap_close', 'abc', 'abort', 'access', 'altsep', 'chdir', 'chmod', 'close', 'closerange', 'cpu_count', 'curdir', 'defpath', 'device_encoding', 'devnull', 'dup', 'dup2', 'environ', 'error', 'execl', 'execle', 'execlp', 'execlpe', 'execv', 'execve', 'execvp', 'execvpe', 'extsep', 'fdopen', 'fsdecode', 'fsencode', 'fspath', 'fstat', 'fsync', 'ftruncate', 'get_exec_path', 'get_handle_inheritable', 'get_inheritable', 'get_terminal_size', 'getcwd', 'getcwdb', 'getenv', 'getlogin', 'getpid', 'getppid', 'isatty', 'kill', 'linesep', 'link', 'listdir', 'lseek', 'lstat', 'makedirs', 'mkdir', 'name', 'open', 'pardir', 'path', 'pathsep', 'pipe', 'popen', 'putenv', 'read', 'readlink', 'remove', 'removedirs', 'rename', 'renames', 'replace', 'rmdir', 'scandir', 'sep', 'set_handle_inheritable', 'set_inheritable', 'spawnl', 'spawnle', 'spawnv', 'spawnve', 'st', 'startfile', 'stat', 'stat_result', 'statvfs_result', 'strerror', 'supports_bytes_environ', 'supports_dir_fd', 'supports_effective_ids', 'supports_fd', 'supports_follow_symlinks', 'symlink', 'sys', 'system', 'terminal_size', 'times', 'times_result', 'truncate', 'umask', 'uname_result', 'unlink', 'urandom', 'utime', 'waitpid', 'walk', 'write']\n"
     ]
    }
   ],
   "source": [
    "# import os module\n",
    "import os\n",
    "\n",
    "# This will show us all the attributes and methods that we can do with the OS Module\n",
    "print(dir(os))"
   ]
  },
  {
   "cell_type": "code",
   "execution_count": 2,
   "metadata": {},
   "outputs": [
    {
     "data": {
      "text/plain": [
       "'C:\\\\Users\\\\SRAVAN'"
      ]
     },
     "execution_count": 2,
     "metadata": {},
     "output_type": "execute_result"
    }
   ],
   "source": [
    "# Printing current directory\n",
    "os.getcwd()"
   ]
  },
  {
   "cell_type": "code",
   "execution_count": 3,
   "metadata": {},
   "outputs": [
    {
     "data": {
      "text/plain": [
       "'C:\\\\Users\\\\SRAVAN\\\\data'"
      ]
     },
     "execution_count": 3,
     "metadata": {},
     "output_type": "execute_result"
    }
   ],
   "source": [
    "# To navigate to new file location\n",
    "os.chdir('C:\\\\Users\\\\SRAVAN\\\\data')\n",
    "\n",
    "# Let's check our current working directory \n",
    "os.getcwd()"
   ]
  },
  {
   "cell_type": "code",
   "execution_count": 4,
   "metadata": {},
   "outputs": [
    {
     "name": "stdout",
     "output_type": "stream",
     "text": [
      "['adults', 'Advertising.csv', 'automobile', 'bulldozer', 'DCOILBRENTEU.csv', 'irisDataset.csv', 'kc_house_data.csv', 'Mall_Customers.csv', 'plane', 'Realestate.csv', 'SMSSpamCollection', 'test_catvnoncat.h5', 'train', 'train_catvnoncat.h5', 'tweettrain.csv', 'Wholesale-customers-data.csv']\n"
     ]
    }
   ],
   "source": [
    "# Ok, everything seems cool, Now let us explore files that present in our directory\n",
    "print(os.listdir())"
   ]
  },
  {
   "cell_type": "code",
   "execution_count": 6,
   "metadata": {},
   "outputs": [
    {
     "name": "stdout",
     "output_type": "stream",
     "text": [
      "['000131.jpg', '000142.jpg', '000180.jpg', '000220.jpg', '000303.jpg', '000461.jpg', '000474.jpg', '000522.jpg', '000653.jpg', '000672.jpg', '000776.jpg', '000787.jpg', '000871.jpg', '000906.jpg', '001281.jpg', '001290.jpg', '001334.jpg', '001360.jpg', '001492.jpg', '001576.jpg', '001618.jpg', '001693.jpg', '001931.jpg', '002125.jpg', '002153.jpg', '002174.jpg', '002178.jpg', '002182.jpg', '002281.jpg', '002307.jpg', '002544.jpg', '002595.jpg', '002646.jpg', '002772.jpg', '002917.jpg', '003013.jpg', '003313.jpg', '003596.jpg', '003790.jpg', '003971.jpg', '004108.jpg', '004228.jpg', '004581.jpg', '004747.jpg', '004786.jpg', '004830.jpg', '004863.jpg', '004961.jpg', '005199.jpg', '005457.jpg', '005483.jpg', '005609.jpg', '005749.jpg', '005756.jpg', '005831.jpg', '005868.jpg', '006124.jpg', '006277.jpg', '006329.jpg', '006369.jpg', '006497.jpg', '006900.jpg', '006931.jpg', '007058.jpg', '007525.jpg', '007601.jpg', '007709.jpg', '007843.jpg', '008001.jpg', '008057.jpg', '008060.jpg', '008087.jpg', '008105.jpg', '008188.jpg', '008296.jpg', '008329.jpg', '008429.jpg', '008466.jpg', '008478.jpg', '008663.jpg']\n"
     ]
    }
   ],
   "source": [
    "# To check files in a particular folder in our current working directory\n",
    "print(os.listdir('automobile'))"
   ]
  },
  {
   "cell_type": "code",
   "execution_count": 7,
   "metadata": {},
   "outputs": [
    {
     "ename": "FileNotFoundError",
     "evalue": "[WinError 3] The system cannot find the path specified: 'ExampleFolder/AnotherFolder'",
     "output_type": "error",
     "traceback": [
      "\u001b[1;31m---------------------------------------------------------------------------\u001b[0m",
      "\u001b[1;31mFileNotFoundError\u001b[0m                         Traceback (most recent call last)",
      "\u001b[1;32m<ipython-input-7-46bf697658b5>\u001b[0m in \u001b[0;36m<module>\u001b[1;34m\u001b[0m\n\u001b[0;32m      5\u001b[0m \u001b[1;33m\u001b[0m\u001b[0m\n\u001b[0;32m      6\u001b[0m \u001b[1;31m# Let's get into an example to understand this\u001b[0m\u001b[1;33m\u001b[0m\u001b[1;33m\u001b[0m\u001b[1;33m\u001b[0m\u001b[0m\n\u001b[1;32m----> 7\u001b[1;33m \u001b[0mos\u001b[0m\u001b[1;33m.\u001b[0m\u001b[0mmkdir\u001b[0m\u001b[1;33m(\u001b[0m\u001b[1;34m'ExampleFolder/AnotherFolder'\u001b[0m\u001b[1;33m)\u001b[0m\u001b[1;33m\u001b[0m\u001b[1;33m\u001b[0m\u001b[0m\n\u001b[0m",
      "\u001b[1;31mFileNotFoundError\u001b[0m: [WinError 3] The system cannot find the path specified: 'ExampleFolder/AnotherFolder'"
     ]
    }
   ],
   "source": [
    "# Now let's create a folder with name \"Example-Folder\" in our current working directory\n",
    "# To do this we have two different methods 1) os.mkdir(folder_name) and 2) os.makedirs(folder_name) \n",
    "# They are similar but os.mkdir cannot make deep level directories like 'ExampleFolder/anotherFolder'\n",
    "# But os.makedirs can achieve this task of creating deep level directories\n",
    "\n",
    "# Let's get into an example to understand this\n",
    "os.mkdir('ExampleFolder/AnotherFolder')"
   ]
  },
  {
   "cell_type": "code",
   "execution_count": 8,
   "metadata": {},
   "outputs": [],
   "source": [
    "# You can see the error that the system cannot find the path specified\n",
    "# Let's use os.makedirs in this scenario\n",
    "os.makedirs('ExampleFolder/AnotherFolder')"
   ]
  },
  {
   "cell_type": "code",
   "execution_count": 9,
   "metadata": {},
   "outputs": [
    {
     "name": "stdout",
     "output_type": "stream",
     "text": [
      "['adults', 'Advertising.csv', 'automobile', 'bulldozer', 'DCOILBRENTEU.csv', 'ExampleFolder', 'irisDataset.csv', 'kc_house_data.csv', 'Mall_Customers.csv', 'plane', 'Realestate.csv', 'SMSSpamCollection', 'test_catvnoncat.h5', 'train', 'train_catvnoncat.h5', 'tweettrain.csv', 'Wholesale-customers-data.csv']\n",
      "----------\n",
      "['AnotherFolder']\n"
     ]
    }
   ],
   "source": [
    "# Let's check the directories now, if they are added\n",
    "print(os.listdir())\n",
    "print('----------')\n",
    "print(os.listdir('ExampleFolder'))"
   ]
  },
  {
   "cell_type": "code",
   "execution_count": 10,
   "metadata": {},
   "outputs": [],
   "source": [
    "# Yep it worked and now let's move on to deleting the folders we created\n",
    "# Even for this we have two methods \"os.rmdir(folder_name)\" and \"os.removedirs(folder_name)\" which are similar to the\n",
    "# Above functions like with \"os.rmdir\" we can delete only top level directory and for deep level directories\n",
    "# We should use \"os.removedirs\" function\n",
    "os.removedirs('ExampleFolder/AnotherFolder')"
   ]
  },
  {
   "cell_type": "code",
   "execution_count": 11,
   "metadata": {},
   "outputs": [
    {
     "name": "stdout",
     "output_type": "stream",
     "text": [
      "['adults', 'Advertising.csv', 'automobile', 'bulldozer', 'DCOILBRENTEU.csv', 'irisDataset.csv', 'kc_house_data.csv', 'Mall_Customers.csv', 'plane', 'Realestate.csv', 'SMSSpamCollection', 'test_catvnoncat.h5', 'train', 'train_catvnoncat.h5', 'tweettrain.csv', 'Wholesale-customers-data.csv']\n"
     ]
    }
   ],
   "source": [
    "# Let's check if our Example folder is deleted\n",
    "print(os.listdir())"
   ]
  },
  {
   "cell_type": "code",
   "execution_count": 13,
   "metadata": {},
   "outputs": [
    {
     "name": "stdout",
     "output_type": "stream",
     "text": [
      "['adults', 'Advertising.csv', 'automobile', 'bulldozer', 'DCOILBRENTEU.csv', 'iris-Dataset.csv', 'kc_house_data.csv', 'Mall_Customers.csv', 'plane', 'Realestate.csv', 'SMSSpamCollection', 'test_catvnoncat.h5', 'train', 'train_catvnoncat.h5', 'tweettrain.csv', 'Wholesale-customers-data.csv']\n"
     ]
    }
   ],
   "source": [
    "# Now, let's start renaming our files\n",
    "os.rename('irisDataset.csv', 'iris-Dataset.csv')\n",
    "\n",
    "# Let's check if it is worked\n",
    "print(os.listdir())"
   ]
  },
  {
   "cell_type": "code",
   "execution_count": 14,
   "metadata": {},
   "outputs": [
    {
     "data": {
      "text/plain": [
       "os.stat_result(st_mode=33206, st_ino=2814749768109307, st_dev=2934309720, st_nlink=1, st_uid=0, st_gid=0, st_size=4457, st_atime=1591956707, st_mtime=1591956707, st_ctime=1591956707)"
      ]
     },
     "execution_count": 14,
     "metadata": {},
     "output_type": "execute_result"
    }
   ],
   "source": [
    "# To get the complete info about a file we use\n",
    "os.stat('iris-Dataset.csv')"
   ]
  },
  {
   "cell_type": "code",
   "execution_count": 15,
   "metadata": {},
   "outputs": [
    {
     "data": {
      "text/plain": [
       "4457"
      ]
     },
     "execution_count": 15,
     "metadata": {},
     "output_type": "execute_result"
    }
   ],
   "source": [
    "# you can access them individually too\n",
    "\n",
    "# size of the file\n",
    "os.stat('iris-Dataset.csv').st_size"
   ]
  },
  {
   "cell_type": "code",
   "execution_count": 16,
   "metadata": {},
   "outputs": [
    {
     "data": {
      "text/plain": [
       "1591956707.905129"
      ]
     },
     "execution_count": 16,
     "metadata": {},
     "output_type": "execute_result"
    }
   ],
   "source": [
    "# last modification time\n",
    "os.stat('iris-Dataset.csv').st_mtime"
   ]
  },
  {
   "cell_type": "code",
   "execution_count": 17,
   "metadata": {},
   "outputs": [
    {
     "name": "stdout",
     "output_type": "stream",
     "text": [
      "2020-06-12 15:41:47.905129\n"
     ]
    }
   ],
   "source": [
    "# To get the modified time in readable format\n",
    "from datetime import datetime\n",
    "\n",
    "mod_time = os.stat('iris-Dataset.csv').st_mtime\n",
    "print(datetime.fromtimestamp(mod_time))"
   ]
  },
  {
   "cell_type": "code",
   "execution_count": 18,
   "metadata": {},
   "outputs": [
    {
     "name": "stdout",
     "output_type": "stream",
     "text": [
      "Path of the directory:  C:\\Users\\SRAVAN\\data\n",
      "Directory's name:  ['adults', 'automobile', 'bulldozer', 'plane', 'train']\n",
      "files in the directory:  ['Advertising.csv', 'DCOILBRENTEU.csv', 'iris-Dataset.csv', 'kc_house_data.csv', 'Mall_Customers.csv', 'Realestate.csv', 'SMSSpamCollection', 'test_catvnoncat.h5', 'train_catvnoncat.h5', 'tweettrain.csv', 'Wholesale-customers-data.csv']\n",
      "-------------------\n",
      "Path of the directory:  C:\\Users\\SRAVAN\\data\\adults\n",
      "Directory's name:  []\n",
      "files in the directory:  ['test.csv', 'train.csv']\n",
      "-------------------\n",
      "Path of the directory:  C:\\Users\\SRAVAN\\data\\automobile\n",
      "Directory's name:  []\n",
      "files in the directory:  ['000131.jpg', '000142.jpg', '000180.jpg', '000220.jpg', '000303.jpg', '000461.jpg', '000474.jpg', '000522.jpg', '000653.jpg', '000672.jpg', '000776.jpg', '000787.jpg', '000871.jpg', '000906.jpg', '001281.jpg', '001290.jpg', '001334.jpg', '001360.jpg', '001492.jpg', '001576.jpg', '001618.jpg', '001693.jpg', '001931.jpg', '002125.jpg', '002153.jpg', '002174.jpg', '002178.jpg', '002182.jpg', '002281.jpg', '002307.jpg', '002544.jpg', '002595.jpg', '002646.jpg', '002772.jpg', '002917.jpg', '003013.jpg', '003313.jpg', '003596.jpg', '003790.jpg', '003971.jpg', '004108.jpg', '004228.jpg', '004581.jpg', '004747.jpg', '004786.jpg', '004830.jpg', '004863.jpg', '004961.jpg', '005199.jpg', '005457.jpg', '005483.jpg', '005609.jpg', '005749.jpg', '005756.jpg', '005831.jpg', '005868.jpg', '006124.jpg', '006277.jpg', '006329.jpg', '006369.jpg', '006497.jpg', '006900.jpg', '006931.jpg', '007058.jpg', '007525.jpg', '007601.jpg', '007709.jpg', '007843.jpg', '008001.jpg', '008057.jpg', '008060.jpg', '008087.jpg', '008105.jpg', '008188.jpg', '008296.jpg', '008329.jpg', '008429.jpg', '008466.jpg', '008478.jpg', '008663.jpg']\n",
      "-------------------\n",
      "Path of the directory:  C:\\Users\\SRAVAN\\data\\bulldozer\n",
      "Directory's name:  []\n",
      "files in the directory:  ['Train.csv']\n",
      "-------------------\n",
      "Path of the directory:  C:\\Users\\SRAVAN\\data\\plane\n",
      "Directory's name:  []\n",
      "files in the directory:  ['000033.jpg', '000117.jpg', '000228.jpg', '000256.jpg', '000325.jpg', '000431.jpg', '000610.jpg', '000730.jpg', '000738.jpg', '000763.jpg', '000815.jpg', '000845.jpg', '000896.jpg', '001107.jpg', '001144.jpg', '001270.jpg', '001288.jpg', '001545.jpg', '001708.jpg', '001858.jpg', '002255.jpg', '002266.jpg', '002279.jpg', '002348.jpg', '002354.jpg', '002376.jpg', '002439.jpg', '002737.jpg', '002847.jpg', '002869.jpg', '003133.jpg', '003493.jpg', '003554.jpg', '003667.jpg', '003886.jpg', '003993.jpg', '004009.jpg', '004052.jpg', '004135.jpg', '004196.jpg', '004286.jpg', '004390.jpg', '004470.jpg', '004643.jpg', '004982.jpg', '005079.jpg', '005391.jpg', '005393.jpg', '005487.jpg', '005620.jpg', '006025.jpg', '006129.jpg', '006349.jpg', '006350.jpg', '006374.jpg', '006773.jpg', '006794.jpg', '007088.jpg', '007274.jpg', '007297.jpg', '007820.jpg', '007916.jpg', '008107.jpg', '008275.jpg', '008372.jpg', '008450.jpg', '008472.jpg', '008667.jpg', '008723.jpg', '008847.jpg', '008905.jpg', '008971.jpg', '009085.jpg', '009272.jpg', '009394.jpg', '009476.jpg', '009615.jpg', '009681.jpg', '009905.jpg', '009911.jpg']\n",
      "-------------------\n",
      "Path of the directory:  C:\\Users\\SRAVAN\\data\\train\n",
      "Directory's name:  []\n",
      "files in the directory:  ['000095.jpg', '000635.jpg', '000675.jpg', '000712.jpg', '000791.jpg', '000831.jpg', '000863.jpg', '000899.jpg', '000946.jpg', '000966.jpg', '001221.jpg', '001383.jpg', '001483.jpg', '001565.jpg', '001907.jpg', '002054.jpg', '002166.jpg', '002180.jpg', '002214.jpg', '002321.jpg', '002502.jpg', '002600.jpg', '002757.jpg', '002844.jpg', '002891.jpg', '002906.jpg', '003038.jpg', '003370.jpg', '003417.jpg', '003464.jpg', '003497.jpg', '003499.jpg', '003564.jpg', '003605.jpg', '003628.jpg', '003866.jpg', '004102.jpg', '004315.jpg', '004354.jpg', '004411.jpg', '004436.jpg', '004437.jpg', '004776.jpg', '004911.jpg', '004951.jpg', '005267.jpg', '005269.jpg', '005355.jpg', '005384.jpg', '005389.jpg', '005654.jpg', '005685.jpg', '005995.jpg', '006107.jpg', '006344.jpg', '006377.jpg', '006400.jpg', '006466.jpg', '006499.jpg', '006538.jpg', '006652.jpg', '006670.jpg', '006943.jpg', '007123.jpg', '007168.jpg', '007666.jpg', '007742.jpg', '008235.jpg', '008244.jpg', '008295.jpg', '008506.jpg', '008553.jpg', '008710.jpg', '008766.jpg', '009187.jpg', '009254.jpg', '009377.jpg', '009401.jpg', '009855.jpg', '009860.jpg']\n",
      "-------------------\n"
     ]
    }
   ],
   "source": [
    "# Now let us see entire directory location and files in our cwd and explore them\n",
    "for dirpath, dirnames, filename in os.walk(os.getcwd()):\n",
    "    print(\"Path of the directory: \" ,dirpath)\n",
    "    print(\"Directory's name: \" ,dirnames)\n",
    "    print(\"files in the directory: \" ,filename)\n",
    "    print('-------------------')"
   ]
  },
  {
   "cell_type": "code",
   "execution_count": 21,
   "metadata": {},
   "outputs": [
    {
     "data": {
      "text/plain": [
       "'HP-LAPTOP'"
      ]
     },
     "execution_count": 21,
     "metadata": {},
     "output_type": "execute_result"
    }
   ],
   "source": [
    "# getting environmental variables\n",
    "# os.environ --> for getting all environment variables\n",
    "\n",
    "os.environ.get('COMPUTERNAME')"
   ]
  },
  {
   "cell_type": "code",
   "execution_count": 32,
   "metadata": {},
   "outputs": [
    {
     "name": "stdout",
     "output_type": "stream",
     "text": [
      "\\Users\\SRAVAN\\automobiles\n"
     ]
    }
   ],
   "source": [
    "# Joining two paths\n",
    "\n",
    "path1 = os.environ.get('HOMEPATH')\n",
    "# print(path1) - > \\\\Users\\SRAVAN\\\n",
    "path2 = 'automobiles'\n",
    "# print(path2) -> autombiles\n",
    "print(os.path.join(path1, path2))"
   ]
  },
  {
   "cell_type": "code",
   "execution_count": 37,
   "metadata": {},
   "outputs": [
    {
     "data": {
      "text/plain": [
       "('\\\\Users', 'SRAVAN')"
      ]
     },
     "execution_count": 37,
     "metadata": {},
     "output_type": "execute_result"
    }
   ],
   "source": [
    "os.path.split(path1)"
   ]
  },
  {
   "cell_type": "code",
   "execution_count": 45,
   "metadata": {},
   "outputs": [
    {
     "name": "stdout",
     "output_type": "stream",
     "text": [
      "False\n",
      "True\n",
      "False\n",
      "('Advertising', '.csv')\n"
     ]
    }
   ],
   "source": [
    "# Some methods which you find useful\n",
    "print(os.path.exists('somestring')) # Returns a boolean value based on the presence of the file\n",
    "print(os.path.isdir('automobile')) # Returns True if it is directory else false\n",
    "print(os.path.isfile('automobile')) # Returns True if it is a file else false\n",
    "print(os.path.splitext('Advertising.csv')) # Splits the name of the file and it's extension"
   ]
  },
  {
   "cell_type": "markdown",
   "metadata": {},
   "source": [
    "### Using DateTime module in python"
   ]
  },
  {
   "cell_type": "code",
   "execution_count": 46,
   "metadata": {},
   "outputs": [],
   "source": [
    "# importing required library\n",
    "import datetime"
   ]
  },
  {
   "cell_type": "code",
   "execution_count": 48,
   "metadata": {},
   "outputs": [
    {
     "name": "stdout",
     "output_type": "stream",
     "text": [
      "2001-02-12\n"
     ]
    }
   ],
   "source": [
    "# let's create an example date \n",
    "# Don't pass the single digits like 01 or 02 -> pass them like 1 or 2\n",
    "bday = datetime.date(2001, 2, 12) # YYYY, MM, DD\n",
    "# Let's print it now\n",
    "print(bday)"
   ]
  },
  {
   "cell_type": "code",
   "execution_count": 50,
   "metadata": {},
   "outputs": [
    {
     "name": "stdout",
     "output_type": "stream",
     "text": [
      "2020-06-26\n"
     ]
    }
   ],
   "source": [
    "# Let's print the current date :)\n",
    "currentday = datetime.date.today()\n",
    "print(currentday)"
   ]
  },
  {
   "cell_type": "code",
   "execution_count": 53,
   "metadata": {},
   "outputs": [
    {
     "name": "stdout",
     "output_type": "stream",
     "text": [
      "Current Year is: 2020\n",
      "Current Month is: 6\n",
      "Current Day is: 26\n"
     ]
    }
   ],
   "source": [
    "# To grab everything individually\n",
    "print(\"Current Year is:\",currentday.year) # for year\n",
    "print(\"Current Month is:\",currentday.month) # for month\n",
    "print(\"Current Day is:\",currentday.day) # for day"
   ]
  },
  {
   "cell_type": "code",
   "execution_count": 55,
   "metadata": {},
   "outputs": [
    {
     "name": "stdout",
     "output_type": "stream",
     "text": [
      "4\n",
      "5\n"
     ]
    }
   ],
   "source": [
    "# Getting the day of the week\n",
    "# We can get them in 2 ways\n",
    "print(currentday.weekday())\n",
    "print(currentday.isoweekday())\n",
    "\n",
    "# The difference here is\n",
    "# for week day Monday - 0: Tuesday - 1: Wednesday - 2: Thursday - 3: Friday - 4: Saturday - 5: Sunday - 6\n",
    "# for isoweek day Monday - 1: Tuesday - 2: Wednesday - 3: Thursday - 4: Friday - 5: Saturday - 6: Sunday - 7"
   ]
  },
  {
   "cell_type": "code",
   "execution_count": 58,
   "metadata": {},
   "outputs": [
    {
     "name": "stdout",
     "output_type": "stream",
     "text": [
      "2020-07-06\n"
     ]
    }
   ],
   "source": [
    "# Date after 'n' days from now\n",
    "\n",
    "# Let's look what is the date after 10 days from now\n",
    "nextWeekDay = datetime.timedelta(days = 10)\n",
    "print(currentday + nextWeekDay)"
   ]
  },
  {
   "cell_type": "code",
   "execution_count": 59,
   "metadata": {},
   "outputs": [
    {
     "name": "stdout",
     "output_type": "stream",
     "text": [
      "2020-06-16\n"
     ]
    }
   ],
   "source": [
    "# You can see what is the date before 10 days too\n",
    "nextWeekDay = datetime.timedelta(days = 10)\n",
    "print(currentday - nextWeekDay) # just subtract the timedelta from the current day"
   ]
  },
  {
   "cell_type": "code",
   "execution_count": 64,
   "metadata": {},
   "outputs": [
    {
     "name": "stdout",
     "output_type": "stream",
     "text": [
      "193 days, 0:00:00\n",
      "193\n",
      "16675200.0\n"
     ]
    }
   ],
   "source": [
    "# Let's figure out how many days are remaining to a date from today\n",
    "targetday = datetime.date(2021, 1, 5)\n",
    "countdown = targetday - currentday\n",
    "print(countdown) # Now you can see how many days are remaining\n",
    "print(countdown.days) # To get only number of days but not the entire timestamp\n",
    "print(countdown.total_seconds()) # To get number of seconds to the target day from a day"
   ]
  },
  {
   "cell_type": "code",
   "execution_count": 65,
   "metadata": {},
   "outputs": [
    {
     "name": "stdout",
     "output_type": "stream",
     "text": [
      "05:12:21.002001\n"
     ]
    }
   ],
   "source": [
    "# Now lets work on time(Hours, minutes, seconds and microseconds)\n",
    "\n",
    "# Let's create a sample date\n",
    "tim = datetime.time(5, 12, 21, 2001) # Hours, Minutes, Seconds, microseconds\n",
    "print(tim)"
   ]
  },
  {
   "cell_type": "code",
   "execution_count": 68,
   "metadata": {},
   "outputs": [
    {
     "name": "stdout",
     "output_type": "stream",
     "text": [
      "5\n",
      "12\n",
      "21\n"
     ]
    }
   ],
   "source": [
    "print(tim.hour) # It gives only hour\n",
    "print(tim.minute) # It gives minutes only\n",
    "print(tim.second) # it gives seconds only"
   ]
  },
  {
   "cell_type": "code",
   "execution_count": 71,
   "metadata": {},
   "outputs": [
    {
     "name": "stdout",
     "output_type": "stream",
     "text": [
      "2020-04-21 12:30:59.010000\n"
     ]
    }
   ],
   "source": [
    "# Let's create a sample date with a timestamp too\n",
    "sample = datetime.datetime(2020, 4, 21, 12, 30, 59, 10000) # Y, M, D, H, Minute, seconds, microseconds\n",
    "print(sample)"
   ]
  },
  {
   "cell_type": "code",
   "execution_count": 74,
   "metadata": {},
   "outputs": [
    {
     "name": "stdout",
     "output_type": "stream",
     "text": [
      "lets assume the current day as 2020-04-21 12:30:59.010000\n",
      "so the date after 100 hours is 2020-04-25 16:30:59.010000\n"
     ]
    }
   ],
   "source": [
    "# Having this datetime you can also see the date after 'n' hours\n",
    "\n",
    "# Let's create a timestamp of 100 hours\n",
    "target = datetime.timedelta(hours = 100)\n",
    "\n",
    "# It gives you the date after 100 hours\n",
    "print('lets assume the current day as', sample)\n",
    "print('so the date after 100 hours is',sample + target)"
   ]
  },
  {
   "cell_type": "code",
   "execution_count": 84,
   "metadata": {},
   "outputs": [
    {
     "name": "stdout",
     "output_type": "stream",
     "text": [
      "2020-06-26 18:15:57.965686\n",
      "2020-06-26 18:15:57.965685\n"
     ]
    }
   ],
   "source": [
    "print(datetime.datetime.today()) # Gets local date's timestamp - we cannot pass the timezone\n",
    "print(datetime.datetime.now()) # Get current day's timestamp - we can pass the timezone"
   ]
  },
  {
   "cell_type": "code",
   "execution_count": 77,
   "metadata": {},
   "outputs": [],
   "source": [
    "# Let's use pytz (The third party library)\n",
    "# Since pytz is recommended by python docs and it is mostly used. Let's work on it too\n",
    "\n",
    "# Importing necessary library\n",
    "import pytz"
   ]
  },
  {
   "cell_type": "code",
   "execution_count": 80,
   "metadata": {},
   "outputs": [
    {
     "name": "stdout",
     "output_type": "stream",
     "text": [
      "2020-04-21 12:30:59.010000+00:00\n"
     ]
    }
   ],
   "source": [
    "# Lets create a timezone aware date\n",
    "sample = datetime.datetime(2020, 4, 21, 12, 30, 59, 10000, tzinfo = pytz.UTC)\n",
    "print(sample) # you can see +00:00 at the end as it is the UTC offset"
   ]
  },
  {
   "cell_type": "code",
   "execution_count": 91,
   "metadata": {},
   "outputs": [
    {
     "name": "stdout",
     "output_type": "stream",
     "text": [
      "2020-06-26 12:48:02.635844+00:00\n",
      "2020-06-26 12:48:02.635844+00:00\n"
     ]
    }
   ],
   "source": [
    "# Let's get current time according to UTC\n",
    "print(datetime.datetime.now(tz = pytz.UTC))\n",
    "\n",
    "# You can use utcinfo() method too\n",
    "print(datetime.datetime.utcnow().replace(tzinfo=pytz.UTC))"
   ]
  },
  {
   "cell_type": "code",
   "execution_count": 94,
   "metadata": {},
   "outputs": [
    {
     "name": "stdout",
     "output_type": "stream",
     "text": [
      "2020-06-26 18:19:53.913111+05:30\n"
     ]
    }
   ],
   "source": [
    "# Let's take current UTC time\n",
    "sample = datetime.datetime.now(tz = pytz.UTC)\n",
    "# Let's convert this time into our timmezone\n",
    "mysample = sample.astimezone(pytz.timezone('Asia/Kolkata'))\n",
    "print(mysample) # It gives our timezone offset too (+05:30)"
   ]
  },
  {
   "cell_type": "code",
   "execution_count": 103,
   "metadata": {},
   "outputs": [
    {
     "name": "stdout",
     "output_type": "stream",
     "text": [
      "Total timzones available in pytz 593\n"
     ]
    },
    {
     "data": {
      "text/plain": [
       "['Africa/Abidjan',\n",
       " 'Africa/Accra',\n",
       " 'Africa/Addis_Ababa',\n",
       " 'Africa/Algiers',\n",
       " 'Africa/Asmara',\n",
       " 'Africa/Asmera',\n",
       " 'Africa/Bamako',\n",
       " 'Africa/Bangui',\n",
       " 'Africa/Banjul',\n",
       " 'Africa/Bissau',\n",
       " 'Africa/Blantyre',\n",
       " 'Africa/Brazzaville',\n",
       " 'Africa/Bujumbura',\n",
       " 'Africa/Cairo',\n",
       " 'Africa/Casablanca',\n",
       " 'Africa/Ceuta',\n",
       " 'Africa/Conakry',\n",
       " 'Africa/Dakar',\n",
       " 'Africa/Dar_es_Salaam',\n",
       " 'Africa/Djibouti',\n",
       " 'Africa/Douala',\n",
       " 'Africa/El_Aaiun',\n",
       " 'Africa/Freetown',\n",
       " 'Africa/Gaborone',\n",
       " 'Africa/Harare',\n",
       " 'Africa/Johannesburg',\n",
       " 'Africa/Juba',\n",
       " 'Africa/Kampala',\n",
       " 'Africa/Khartoum',\n",
       " 'Africa/Kigali',\n",
       " 'Africa/Kinshasa',\n",
       " 'Africa/Lagos',\n",
       " 'Africa/Libreville',\n",
       " 'Africa/Lome',\n",
       " 'Africa/Luanda',\n",
       " 'Africa/Lubumbashi',\n",
       " 'Africa/Lusaka',\n",
       " 'Africa/Malabo',\n",
       " 'Africa/Maputo',\n",
       " 'Africa/Maseru',\n",
       " 'Africa/Mbabane',\n",
       " 'Africa/Mogadishu',\n",
       " 'Africa/Monrovia',\n",
       " 'Africa/Nairobi',\n",
       " 'Africa/Ndjamena',\n",
       " 'Africa/Niamey',\n",
       " 'Africa/Nouakchott',\n",
       " 'Africa/Ouagadougou',\n",
       " 'Africa/Porto-Novo',\n",
       " 'Africa/Sao_Tome',\n",
       " 'Africa/Timbuktu',\n",
       " 'Africa/Tripoli',\n",
       " 'Africa/Tunis',\n",
       " 'Africa/Windhoek',\n",
       " 'America/Adak',\n",
       " 'America/Anchorage',\n",
       " 'America/Anguilla',\n",
       " 'America/Antigua',\n",
       " 'America/Araguaina',\n",
       " 'America/Argentina/Buenos_Aires',\n",
       " 'America/Argentina/Catamarca',\n",
       " 'America/Argentina/ComodRivadavia',\n",
       " 'America/Argentina/Cordoba',\n",
       " 'America/Argentina/Jujuy',\n",
       " 'America/Argentina/La_Rioja',\n",
       " 'America/Argentina/Mendoza',\n",
       " 'America/Argentina/Rio_Gallegos',\n",
       " 'America/Argentina/Salta',\n",
       " 'America/Argentina/San_Juan',\n",
       " 'America/Argentina/San_Luis',\n",
       " 'America/Argentina/Tucuman',\n",
       " 'America/Argentina/Ushuaia',\n",
       " 'America/Aruba',\n",
       " 'America/Asuncion',\n",
       " 'America/Atikokan',\n",
       " 'America/Atka',\n",
       " 'America/Bahia',\n",
       " 'America/Bahia_Banderas',\n",
       " 'America/Barbados',\n",
       " 'America/Belem',\n",
       " 'America/Belize',\n",
       " 'America/Blanc-Sablon',\n",
       " 'America/Boa_Vista',\n",
       " 'America/Bogota',\n",
       " 'America/Boise',\n",
       " 'America/Buenos_Aires',\n",
       " 'America/Cambridge_Bay',\n",
       " 'America/Campo_Grande',\n",
       " 'America/Cancun',\n",
       " 'America/Caracas',\n",
       " 'America/Catamarca',\n",
       " 'America/Cayenne',\n",
       " 'America/Cayman',\n",
       " 'America/Chicago',\n",
       " 'America/Chihuahua',\n",
       " 'America/Coral_Harbour',\n",
       " 'America/Cordoba',\n",
       " 'America/Costa_Rica',\n",
       " 'America/Creston',\n",
       " 'America/Cuiaba',\n",
       " 'America/Curacao',\n",
       " 'America/Danmarkshavn',\n",
       " 'America/Dawson',\n",
       " 'America/Dawson_Creek',\n",
       " 'America/Denver',\n",
       " 'America/Detroit',\n",
       " 'America/Dominica',\n",
       " 'America/Edmonton',\n",
       " 'America/Eirunepe',\n",
       " 'America/El_Salvador',\n",
       " 'America/Ensenada',\n",
       " 'America/Fort_Nelson',\n",
       " 'America/Fort_Wayne',\n",
       " 'America/Fortaleza',\n",
       " 'America/Glace_Bay',\n",
       " 'America/Godthab',\n",
       " 'America/Goose_Bay',\n",
       " 'America/Grand_Turk',\n",
       " 'America/Grenada',\n",
       " 'America/Guadeloupe',\n",
       " 'America/Guatemala',\n",
       " 'America/Guayaquil',\n",
       " 'America/Guyana',\n",
       " 'America/Halifax',\n",
       " 'America/Havana',\n",
       " 'America/Hermosillo',\n",
       " 'America/Indiana/Indianapolis',\n",
       " 'America/Indiana/Knox',\n",
       " 'America/Indiana/Marengo',\n",
       " 'America/Indiana/Petersburg',\n",
       " 'America/Indiana/Tell_City',\n",
       " 'America/Indiana/Vevay',\n",
       " 'America/Indiana/Vincennes',\n",
       " 'America/Indiana/Winamac',\n",
       " 'America/Indianapolis',\n",
       " 'America/Inuvik',\n",
       " 'America/Iqaluit',\n",
       " 'America/Jamaica',\n",
       " 'America/Jujuy',\n",
       " 'America/Juneau',\n",
       " 'America/Kentucky/Louisville',\n",
       " 'America/Kentucky/Monticello',\n",
       " 'America/Knox_IN',\n",
       " 'America/Kralendijk',\n",
       " 'America/La_Paz',\n",
       " 'America/Lima',\n",
       " 'America/Los_Angeles',\n",
       " 'America/Louisville',\n",
       " 'America/Lower_Princes',\n",
       " 'America/Maceio',\n",
       " 'America/Managua',\n",
       " 'America/Manaus',\n",
       " 'America/Marigot',\n",
       " 'America/Martinique',\n",
       " 'America/Matamoros',\n",
       " 'America/Mazatlan',\n",
       " 'America/Mendoza',\n",
       " 'America/Menominee',\n",
       " 'America/Merida',\n",
       " 'America/Metlakatla',\n",
       " 'America/Mexico_City',\n",
       " 'America/Miquelon',\n",
       " 'America/Moncton',\n",
       " 'America/Monterrey',\n",
       " 'America/Montevideo',\n",
       " 'America/Montreal',\n",
       " 'America/Montserrat',\n",
       " 'America/Nassau',\n",
       " 'America/New_York',\n",
       " 'America/Nipigon',\n",
       " 'America/Nome',\n",
       " 'America/Noronha',\n",
       " 'America/North_Dakota/Beulah',\n",
       " 'America/North_Dakota/Center',\n",
       " 'America/North_Dakota/New_Salem',\n",
       " 'America/Nuuk',\n",
       " 'America/Ojinaga',\n",
       " 'America/Panama',\n",
       " 'America/Pangnirtung',\n",
       " 'America/Paramaribo',\n",
       " 'America/Phoenix',\n",
       " 'America/Port-au-Prince',\n",
       " 'America/Port_of_Spain',\n",
       " 'America/Porto_Acre',\n",
       " 'America/Porto_Velho',\n",
       " 'America/Puerto_Rico',\n",
       " 'America/Punta_Arenas',\n",
       " 'America/Rainy_River',\n",
       " 'America/Rankin_Inlet',\n",
       " 'America/Recife',\n",
       " 'America/Regina',\n",
       " 'America/Resolute',\n",
       " 'America/Rio_Branco',\n",
       " 'America/Rosario',\n",
       " 'America/Santa_Isabel',\n",
       " 'America/Santarem',\n",
       " 'America/Santiago',\n",
       " 'America/Santo_Domingo',\n",
       " 'America/Sao_Paulo',\n",
       " 'America/Scoresbysund',\n",
       " 'America/Shiprock',\n",
       " 'America/Sitka',\n",
       " 'America/St_Barthelemy',\n",
       " 'America/St_Johns',\n",
       " 'America/St_Kitts',\n",
       " 'America/St_Lucia',\n",
       " 'America/St_Thomas',\n",
       " 'America/St_Vincent',\n",
       " 'America/Swift_Current',\n",
       " 'America/Tegucigalpa',\n",
       " 'America/Thule',\n",
       " 'America/Thunder_Bay',\n",
       " 'America/Tijuana',\n",
       " 'America/Toronto',\n",
       " 'America/Tortola',\n",
       " 'America/Vancouver',\n",
       " 'America/Virgin',\n",
       " 'America/Whitehorse',\n",
       " 'America/Winnipeg',\n",
       " 'America/Yakutat',\n",
       " 'America/Yellowknife',\n",
       " 'Antarctica/Casey',\n",
       " 'Antarctica/Davis',\n",
       " 'Antarctica/DumontDUrville',\n",
       " 'Antarctica/Macquarie',\n",
       " 'Antarctica/Mawson',\n",
       " 'Antarctica/McMurdo',\n",
       " 'Antarctica/Palmer',\n",
       " 'Antarctica/Rothera',\n",
       " 'Antarctica/South_Pole',\n",
       " 'Antarctica/Syowa',\n",
       " 'Antarctica/Troll',\n",
       " 'Antarctica/Vostok',\n",
       " 'Arctic/Longyearbyen',\n",
       " 'Asia/Aden',\n",
       " 'Asia/Almaty',\n",
       " 'Asia/Amman',\n",
       " 'Asia/Anadyr',\n",
       " 'Asia/Aqtau',\n",
       " 'Asia/Aqtobe',\n",
       " 'Asia/Ashgabat',\n",
       " 'Asia/Ashkhabad',\n",
       " 'Asia/Atyrau',\n",
       " 'Asia/Baghdad',\n",
       " 'Asia/Bahrain',\n",
       " 'Asia/Baku',\n",
       " 'Asia/Bangkok',\n",
       " 'Asia/Barnaul',\n",
       " 'Asia/Beirut',\n",
       " 'Asia/Bishkek',\n",
       " 'Asia/Brunei',\n",
       " 'Asia/Calcutta',\n",
       " 'Asia/Chita',\n",
       " 'Asia/Choibalsan',\n",
       " 'Asia/Chongqing',\n",
       " 'Asia/Chungking',\n",
       " 'Asia/Colombo',\n",
       " 'Asia/Dacca',\n",
       " 'Asia/Damascus',\n",
       " 'Asia/Dhaka',\n",
       " 'Asia/Dili',\n",
       " 'Asia/Dubai',\n",
       " 'Asia/Dushanbe',\n",
       " 'Asia/Famagusta',\n",
       " 'Asia/Gaza',\n",
       " 'Asia/Harbin',\n",
       " 'Asia/Hebron',\n",
       " 'Asia/Ho_Chi_Minh',\n",
       " 'Asia/Hong_Kong',\n",
       " 'Asia/Hovd',\n",
       " 'Asia/Irkutsk',\n",
       " 'Asia/Istanbul',\n",
       " 'Asia/Jakarta',\n",
       " 'Asia/Jayapura',\n",
       " 'Asia/Jerusalem',\n",
       " 'Asia/Kabul',\n",
       " 'Asia/Kamchatka',\n",
       " 'Asia/Karachi',\n",
       " 'Asia/Kashgar',\n",
       " 'Asia/Kathmandu',\n",
       " 'Asia/Katmandu',\n",
       " 'Asia/Khandyga',\n",
       " 'Asia/Kolkata',\n",
       " 'Asia/Krasnoyarsk',\n",
       " 'Asia/Kuala_Lumpur',\n",
       " 'Asia/Kuching',\n",
       " 'Asia/Kuwait',\n",
       " 'Asia/Macao',\n",
       " 'Asia/Macau',\n",
       " 'Asia/Magadan',\n",
       " 'Asia/Makassar',\n",
       " 'Asia/Manila',\n",
       " 'Asia/Muscat',\n",
       " 'Asia/Nicosia',\n",
       " 'Asia/Novokuznetsk',\n",
       " 'Asia/Novosibirsk',\n",
       " 'Asia/Omsk',\n",
       " 'Asia/Oral',\n",
       " 'Asia/Phnom_Penh',\n",
       " 'Asia/Pontianak',\n",
       " 'Asia/Pyongyang',\n",
       " 'Asia/Qatar',\n",
       " 'Asia/Qostanay',\n",
       " 'Asia/Qyzylorda',\n",
       " 'Asia/Rangoon',\n",
       " 'Asia/Riyadh',\n",
       " 'Asia/Saigon',\n",
       " 'Asia/Sakhalin',\n",
       " 'Asia/Samarkand',\n",
       " 'Asia/Seoul',\n",
       " 'Asia/Shanghai',\n",
       " 'Asia/Singapore',\n",
       " 'Asia/Srednekolymsk',\n",
       " 'Asia/Taipei',\n",
       " 'Asia/Tashkent',\n",
       " 'Asia/Tbilisi',\n",
       " 'Asia/Tehran',\n",
       " 'Asia/Tel_Aviv',\n",
       " 'Asia/Thimbu',\n",
       " 'Asia/Thimphu',\n",
       " 'Asia/Tokyo',\n",
       " 'Asia/Tomsk',\n",
       " 'Asia/Ujung_Pandang',\n",
       " 'Asia/Ulaanbaatar',\n",
       " 'Asia/Ulan_Bator',\n",
       " 'Asia/Urumqi',\n",
       " 'Asia/Ust-Nera',\n",
       " 'Asia/Vientiane',\n",
       " 'Asia/Vladivostok',\n",
       " 'Asia/Yakutsk',\n",
       " 'Asia/Yangon',\n",
       " 'Asia/Yekaterinburg',\n",
       " 'Asia/Yerevan',\n",
       " 'Atlantic/Azores',\n",
       " 'Atlantic/Bermuda',\n",
       " 'Atlantic/Canary',\n",
       " 'Atlantic/Cape_Verde',\n",
       " 'Atlantic/Faeroe',\n",
       " 'Atlantic/Faroe',\n",
       " 'Atlantic/Jan_Mayen',\n",
       " 'Atlantic/Madeira',\n",
       " 'Atlantic/Reykjavik',\n",
       " 'Atlantic/South_Georgia',\n",
       " 'Atlantic/St_Helena',\n",
       " 'Atlantic/Stanley',\n",
       " 'Australia/ACT',\n",
       " 'Australia/Adelaide',\n",
       " 'Australia/Brisbane',\n",
       " 'Australia/Broken_Hill',\n",
       " 'Australia/Canberra',\n",
       " 'Australia/Currie',\n",
       " 'Australia/Darwin',\n",
       " 'Australia/Eucla',\n",
       " 'Australia/Hobart',\n",
       " 'Australia/LHI',\n",
       " 'Australia/Lindeman',\n",
       " 'Australia/Lord_Howe',\n",
       " 'Australia/Melbourne',\n",
       " 'Australia/NSW',\n",
       " 'Australia/North',\n",
       " 'Australia/Perth',\n",
       " 'Australia/Queensland',\n",
       " 'Australia/South',\n",
       " 'Australia/Sydney',\n",
       " 'Australia/Tasmania',\n",
       " 'Australia/Victoria',\n",
       " 'Australia/West',\n",
       " 'Australia/Yancowinna',\n",
       " 'Brazil/Acre',\n",
       " 'Brazil/DeNoronha',\n",
       " 'Brazil/East',\n",
       " 'Brazil/West',\n",
       " 'CET',\n",
       " 'CST6CDT',\n",
       " 'Canada/Atlantic',\n",
       " 'Canada/Central',\n",
       " 'Canada/Eastern',\n",
       " 'Canada/Mountain',\n",
       " 'Canada/Newfoundland',\n",
       " 'Canada/Pacific',\n",
       " 'Canada/Saskatchewan',\n",
       " 'Canada/Yukon',\n",
       " 'Chile/Continental',\n",
       " 'Chile/EasterIsland',\n",
       " 'Cuba',\n",
       " 'EET',\n",
       " 'EST',\n",
       " 'EST5EDT',\n",
       " 'Egypt',\n",
       " 'Eire',\n",
       " 'Etc/GMT',\n",
       " 'Etc/GMT+0',\n",
       " 'Etc/GMT+1',\n",
       " 'Etc/GMT+10',\n",
       " 'Etc/GMT+11',\n",
       " 'Etc/GMT+12',\n",
       " 'Etc/GMT+2',\n",
       " 'Etc/GMT+3',\n",
       " 'Etc/GMT+4',\n",
       " 'Etc/GMT+5',\n",
       " 'Etc/GMT+6',\n",
       " 'Etc/GMT+7',\n",
       " 'Etc/GMT+8',\n",
       " 'Etc/GMT+9',\n",
       " 'Etc/GMT-0',\n",
       " 'Etc/GMT-1',\n",
       " 'Etc/GMT-10',\n",
       " 'Etc/GMT-11',\n",
       " 'Etc/GMT-12',\n",
       " 'Etc/GMT-13',\n",
       " 'Etc/GMT-14',\n",
       " 'Etc/GMT-2',\n",
       " 'Etc/GMT-3',\n",
       " 'Etc/GMT-4',\n",
       " 'Etc/GMT-5',\n",
       " 'Etc/GMT-6',\n",
       " 'Etc/GMT-7',\n",
       " 'Etc/GMT-8',\n",
       " 'Etc/GMT-9',\n",
       " 'Etc/GMT0',\n",
       " 'Etc/Greenwich',\n",
       " 'Etc/UCT',\n",
       " 'Etc/UTC',\n",
       " 'Etc/Universal',\n",
       " 'Etc/Zulu',\n",
       " 'Europe/Amsterdam',\n",
       " 'Europe/Andorra',\n",
       " 'Europe/Astrakhan',\n",
       " 'Europe/Athens',\n",
       " 'Europe/Belfast',\n",
       " 'Europe/Belgrade',\n",
       " 'Europe/Berlin',\n",
       " 'Europe/Bratislava',\n",
       " 'Europe/Brussels',\n",
       " 'Europe/Bucharest',\n",
       " 'Europe/Budapest',\n",
       " 'Europe/Busingen',\n",
       " 'Europe/Chisinau',\n",
       " 'Europe/Copenhagen',\n",
       " 'Europe/Dublin',\n",
       " 'Europe/Gibraltar',\n",
       " 'Europe/Guernsey',\n",
       " 'Europe/Helsinki',\n",
       " 'Europe/Isle_of_Man',\n",
       " 'Europe/Istanbul',\n",
       " 'Europe/Jersey',\n",
       " 'Europe/Kaliningrad',\n",
       " 'Europe/Kiev',\n",
       " 'Europe/Kirov',\n",
       " 'Europe/Lisbon',\n",
       " 'Europe/Ljubljana',\n",
       " 'Europe/London',\n",
       " 'Europe/Luxembourg',\n",
       " 'Europe/Madrid',\n",
       " 'Europe/Malta',\n",
       " 'Europe/Mariehamn',\n",
       " 'Europe/Minsk',\n",
       " 'Europe/Monaco',\n",
       " 'Europe/Moscow',\n",
       " 'Europe/Nicosia',\n",
       " 'Europe/Oslo',\n",
       " 'Europe/Paris',\n",
       " 'Europe/Podgorica',\n",
       " 'Europe/Prague',\n",
       " 'Europe/Riga',\n",
       " 'Europe/Rome',\n",
       " 'Europe/Samara',\n",
       " 'Europe/San_Marino',\n",
       " 'Europe/Sarajevo',\n",
       " 'Europe/Saratov',\n",
       " 'Europe/Simferopol',\n",
       " 'Europe/Skopje',\n",
       " 'Europe/Sofia',\n",
       " 'Europe/Stockholm',\n",
       " 'Europe/Tallinn',\n",
       " 'Europe/Tirane',\n",
       " 'Europe/Tiraspol',\n",
       " 'Europe/Ulyanovsk',\n",
       " 'Europe/Uzhgorod',\n",
       " 'Europe/Vaduz',\n",
       " 'Europe/Vatican',\n",
       " 'Europe/Vienna',\n",
       " 'Europe/Vilnius',\n",
       " 'Europe/Volgograd',\n",
       " 'Europe/Warsaw',\n",
       " 'Europe/Zagreb',\n",
       " 'Europe/Zaporozhye',\n",
       " 'Europe/Zurich',\n",
       " 'GB',\n",
       " 'GB-Eire',\n",
       " 'GMT',\n",
       " 'GMT+0',\n",
       " 'GMT-0',\n",
       " 'GMT0',\n",
       " 'Greenwich',\n",
       " 'HST',\n",
       " 'Hongkong',\n",
       " 'Iceland',\n",
       " 'Indian/Antananarivo',\n",
       " 'Indian/Chagos',\n",
       " 'Indian/Christmas',\n",
       " 'Indian/Cocos',\n",
       " 'Indian/Comoro',\n",
       " 'Indian/Kerguelen',\n",
       " 'Indian/Mahe',\n",
       " 'Indian/Maldives',\n",
       " 'Indian/Mauritius',\n",
       " 'Indian/Mayotte',\n",
       " 'Indian/Reunion',\n",
       " 'Iran',\n",
       " 'Israel',\n",
       " 'Jamaica',\n",
       " 'Japan',\n",
       " 'Kwajalein',\n",
       " 'Libya',\n",
       " 'MET',\n",
       " 'MST',\n",
       " 'MST7MDT',\n",
       " 'Mexico/BajaNorte',\n",
       " 'Mexico/BajaSur',\n",
       " 'Mexico/General',\n",
       " 'NZ',\n",
       " 'NZ-CHAT',\n",
       " 'Navajo',\n",
       " 'PRC',\n",
       " 'PST8PDT',\n",
       " 'Pacific/Apia',\n",
       " 'Pacific/Auckland',\n",
       " 'Pacific/Bougainville',\n",
       " 'Pacific/Chatham',\n",
       " 'Pacific/Chuuk',\n",
       " 'Pacific/Easter',\n",
       " 'Pacific/Efate',\n",
       " 'Pacific/Enderbury',\n",
       " 'Pacific/Fakaofo',\n",
       " 'Pacific/Fiji',\n",
       " 'Pacific/Funafuti',\n",
       " 'Pacific/Galapagos',\n",
       " 'Pacific/Gambier',\n",
       " 'Pacific/Guadalcanal',\n",
       " 'Pacific/Guam',\n",
       " 'Pacific/Honolulu',\n",
       " 'Pacific/Johnston',\n",
       " 'Pacific/Kiritimati',\n",
       " 'Pacific/Kosrae',\n",
       " 'Pacific/Kwajalein',\n",
       " 'Pacific/Majuro',\n",
       " 'Pacific/Marquesas',\n",
       " 'Pacific/Midway',\n",
       " 'Pacific/Nauru',\n",
       " 'Pacific/Niue',\n",
       " 'Pacific/Norfolk',\n",
       " 'Pacific/Noumea',\n",
       " 'Pacific/Pago_Pago',\n",
       " 'Pacific/Palau',\n",
       " 'Pacific/Pitcairn',\n",
       " 'Pacific/Pohnpei',\n",
       " 'Pacific/Ponape',\n",
       " 'Pacific/Port_Moresby',\n",
       " 'Pacific/Rarotonga',\n",
       " 'Pacific/Saipan',\n",
       " 'Pacific/Samoa',\n",
       " 'Pacific/Tahiti',\n",
       " 'Pacific/Tarawa',\n",
       " 'Pacific/Tongatapu',\n",
       " 'Pacific/Truk',\n",
       " 'Pacific/Wake',\n",
       " 'Pacific/Wallis',\n",
       " 'Pacific/Yap',\n",
       " 'Poland',\n",
       " 'Portugal',\n",
       " 'ROC',\n",
       " 'ROK',\n",
       " 'Singapore',\n",
       " 'Turkey',\n",
       " 'UCT',\n",
       " 'US/Alaska',\n",
       " 'US/Aleutian',\n",
       " 'US/Arizona',\n",
       " 'US/Central',\n",
       " 'US/East-Indiana',\n",
       " 'US/Eastern',\n",
       " 'US/Hawaii',\n",
       " 'US/Indiana-Starke',\n",
       " 'US/Michigan',\n",
       " 'US/Mountain',\n",
       " 'US/Pacific',\n",
       " 'US/Samoa',\n",
       " 'UTC',\n",
       " 'Universal',\n",
       " 'W-SU',\n",
       " 'WET',\n",
       " 'Zulu']"
      ]
     },
     "execution_count": 103,
     "metadata": {},
     "output_type": "execute_result"
    }
   ],
   "source": [
    "# To get all the timezones in pytz\n",
    "lis = [tz for tz in pytz.all_timezones]\n",
    "print(\"Total timzones available in pytz\", len(lis))\n",
    "lis"
   ]
  },
  {
   "cell_type": "code",
   "execution_count": 111,
   "metadata": {},
   "outputs": [
    {
     "name": "stdout",
     "output_type": "stream",
     "text": [
      "26/06/2020\n"
     ]
    }
   ],
   "source": [
    "# To get the timestamp in a particular format we use strftime() method\n",
    "print(sample.strftime('%d/%m/%Y'))"
   ]
  },
  {
   "cell_type": "code",
   "execution_count": 115,
   "metadata": {},
   "outputs": [
    {
     "name": "stdout",
     "output_type": "stream",
     "text": [
      "2020-06-26 00:00:00\n"
     ]
    }
   ],
   "source": [
    "# Converting a string to datetime\n",
    "\n",
    "# Let's create a random string\n",
    "sample = '26-06-2020'\n",
    "parsedsample = datetime.datetime.strptime(sample, '%d-%m-%Y')\n",
    "print(parsedsample)"
   ]
  },
  {
   "cell_type": "markdown",
   "metadata": {},
   "source": [
    "### Reading and writing with files"
   ]
  },
  {
   "cell_type": "code",
   "execution_count": 144,
   "metadata": {},
   "outputs": [
    {
     "name": "stdout",
     "output_type": "stream",
     "text": [
      "../newdoc.txt\n",
      "r\n"
     ]
    }
   ],
   "source": [
    "# Let's open a file named newdoc.txt\n",
    "\n",
    "f = open('../newdoc.txt', 'r') # r -> read mode, you can use w, a, wb, rb for writing, appending normallu\n",
    "# and in binary formats \n",
    "\n",
    "# Printing name of the file\n",
    "print(f.name)\n",
    "\n",
    "# Printing the mode of the file we opened\n",
    "print(f.mode)"
   ]
  },
  {
   "cell_type": "code",
   "execution_count": 145,
   "metadata": {},
   "outputs": [
    {
     "name": "stdout",
     "output_type": "stream",
     "text": [
      "Rohit Gurunath Sharma (born 30 April 1987) is an Indian international cricketer who plays for Mumbai in domestic cricket and captains Mumbai Indians in the Indian Premier League as a right-handed batsman and an occasional right-arm off break bowler. \n",
      "He is the vice-captain of the Indian national team in limited-overs formats and occasionally captains the team.\n",
      "Outside cricket, Sharma is an active supporter of animal welfare campaigns. \n",
      "He is the official Rhino Ambassador for WWF-India and is a member of People for the Ethical Treatment of Animals (PETA). \n",
      "He has worked with PETA in its campaign to raise awareness of the plight of homeless cats and dogs in India.\n",
      "Sharma was born on 30 April 1987 in Bansod, Nagpur, Maharashtra.[5] \n",
      "His mother Purnima Sharma is from Visakhapatnam.[6] His father Gurunath Sharma worked as a caretaker of a transport firm storehouse.\n",
      "Sharma was raised by his grandparents and uncles in Borivali because of his father's low income. He would visit his parents, who lived in a single-room house in Dombivli, only during weekends.[7]\n",
      " He has a younger brother, Vishal Sharma.[8]\n",
      "Sharma joined a cricket camp in 1999 with his uncle's money. His coach at the camp was Dinesh Lad who asked him to change his school to Swami Vivekanand International School where Lad was the coach and which had better cricket facilities.\n",
      " Sharma recollects, \"I told him I couldn't afford it, but he got me a scholarship. So for four years I didn't pay a penny, and did well in my cricket\".[8]\n",
      "Sharma started as an off-spinner who could bat a bit before Lad noticed his batting ability and promoted him from number eight to open the innings.\n",
      " He excelled in the Harris and Giles Shield school cricket tournaments, scoring a century on debut as an opener.[9]\n",
      "Sharma made his List A debut for West Zone against Central Zone in the Deodhar Trophy at Gwalior in March 2005. Batting at number eight, he scored 31 (not out) as West Zone won by 3 wickets with 24 balls remaining. \n",
      "Cheteshwar Pujara and Ravindra Jadeja made their debuts in the same match.[10] It was Sharma's unbeaten innings of 142 in 123 balls against North Zone at Udaipur in the same tournament that brought him into the limelight.[11] \n",
      "He visited Abu Dhabi and Australia with the India A squad and was then included among India's 30-member probables list for the upcoming ICC Champions Trophy tournament. although he did not make the final squad.[12]\n",
      "Sharma made his first-class debut for India A against New Zealand A at Darwin in July 2006. \n",
      "He scored 57 and 22 as India won by 3 wickets.[13] He made his Ranji Trophy debut for his Mumbai in the 2006â€“07 season and scored 205 off 267 balls against Gujarat.[14]\n",
      " Mumbai went on to win the tournament with Sharma scoring a half-century (57) in his second innings in the final against Bengal.[15]\n",
      "Sharma has spent his entire domestic first-class career at Mumbai. \n",
      "In December 2009, he made his highest career score of 309 (not out) in the Ranji Trophy against Gujarat.\n",
      "[16] In October 2013, upon the retirement of Ajit Agarkar, he was appointed team captain ahead of the 2013â€“14 season.[17]\n"
     ]
    }
   ],
   "source": [
    "# to read entire contents in file\n",
    "print(f.read())\n",
    "\n",
    "# We should close a file whenever we stop using it using filename.close()\n",
    "f.close()"
   ]
  },
  {
   "cell_type": "code",
   "execution_count": 146,
   "metadata": {},
   "outputs": [
    {
     "name": "stdout",
     "output_type": "stream",
     "text": [
      "['Rohit Gurunath Sharma (born 30 April 1987) is an Indian international cricketer who plays for Mumbai in domestic cricket and captains Mumbai Indians in the Indian Premier League as a right-handed batsman and an occasional right-arm off break bowler. \\n']\n"
     ]
    }
   ],
   "source": [
    "# By using these context managers allows us to work on the files \n",
    "# and they are automatically closed when we came out of the block\n",
    "# It throws error \"I/O operation on closed file\" if we use them outside the block\n",
    "with open('../newdoc.txt', 'r') as f:\n",
    "    print(f.readlines(1)) # Returns a list of length as specified number of lines in the file\n"
   ]
  },
  {
   "cell_type": "code",
   "execution_count": 147,
   "metadata": {},
   "outputs": [
    {
     "name": "stdout",
     "output_type": "stream",
     "text": [
      "First line\n",
      "Rohit Gurunath Sharma (born 30 April 1987) is an Indian international cricketer who plays for Mumbai in domestic cricket and captains Mumbai Indians in the Indian Premier League as a right-handed batsman and an occasional right-arm off break bowler. \n",
      "\n",
      "Second line\n",
      "He is the vice-captain of the Indian national team in limited-overs formats and occasionally captains the team.\n",
      "\n",
      "Third line\n",
      "Outside cricket, Sharma is an active supporter of animal welfare campaigns. \n",
      "\n"
     ]
    }
   ],
   "source": [
    "# Reading each line in a file using readline() method\n",
    "with open('../newdoc.txt', 'r') as f:\n",
    "    print('First line')\n",
    "    print(f.readline())\n",
    "    print('Second line')\n",
    "    print(f.readline())\n",
    "    print('Third line')\n",
    "    print(f.readline())"
   ]
  },
  {
   "cell_type": "code",
   "execution_count": 149,
   "metadata": {},
   "outputs": [
    {
     "name": "stdout",
     "output_type": "stream",
     "text": [
      "Rohit Gurunath Sharma (born 30 April 1987) is an Indian international cricketer who plays for Mumbai in domestic cricket and captains Mumbai Indians in the Indian Premier League as a right-handed batsman and an occasional right-arm off break bowler. \n",
      "\n",
      "He is the vice-captain of the Indian national team in limited-overs formats and occasionally captains the team.\n",
      "\n",
      "Outside cricket, Sharma is an active supporter of animal welfare campaigns. \n",
      "\n",
      "He is the official Rhino Ambassador for WWF-India and is a member of People for the Ethical Treatment of Animals (PETA). \n",
      "\n",
      "He has worked with PETA in its campaign to raise awareness of the plight of homeless cats and dogs in India.\n",
      "\n",
      "Sharma was born on 30 April 1987 in Bansod, Nagpur, Maharashtra.[5] \n",
      "\n",
      "His mother Purnima Sharma is from Visakhapatnam.[6] His father Gurunath Sharma worked as a caretaker of a transport firm storehouse.\n",
      "\n",
      "Sharma was raised by his grandparents and uncles in Borivali because of his father's low income. He would visit his parents, who lived in a single-room house in Dombivli, only during weekends.[7]\n",
      "\n",
      " He has a younger brother, Vishal Sharma.[8]\n",
      "\n",
      "Sharma joined a cricket camp in 1999 with his uncle's money. His coach at the camp was Dinesh Lad who asked him to change his school to Swami Vivekanand International School where Lad was the coach and which had better cricket facilities.\n",
      "\n",
      " Sharma recollects, \"I told him I couldn't afford it, but he got me a scholarship. So for four years I didn't pay a penny, and did well in my cricket\".[8]\n",
      "\n",
      "Sharma started as an off-spinner who could bat a bit before Lad noticed his batting ability and promoted him from number eight to open the innings.\n",
      "\n",
      " He excelled in the Harris and Giles Shield school cricket tournaments, scoring a century on debut as an opener.[9]\n",
      "\n",
      "Sharma made his List A debut for West Zone against Central Zone in the Deodhar Trophy at Gwalior in March 2005. Batting at number eight, he scored 31 (not out) as West Zone won by 3 wickets with 24 balls remaining. \n",
      "\n",
      "Cheteshwar Pujara and Ravindra Jadeja made their debuts in the same match.[10] It was Sharma's unbeaten innings of 142 in 123 balls against North Zone at Udaipur in the same tournament that brought him into the limelight.[11] \n",
      "\n",
      "He visited Abu Dhabi and Australia with the India A squad and was then included among India's 30-member probables list for the upcoming ICC Champions Trophy tournament. although he did not make the final squad.[12]\n",
      "\n",
      "Sharma made his first-class debut for India A against New Zealand A at Darwin in July 2006. \n",
      "\n",
      "He scored 57 and 22 as India won by 3 wickets.[13] He made his Ranji Trophy debut for his Mumbai in the 2006â€“07 season and scored 205 off 267 balls against Gujarat.[14]\n",
      "\n",
      " Mumbai went on to win the tournament with Sharma scoring a half-century (57) in his second innings in the final against Bengal.[15]\n",
      "\n",
      "Sharma has spent his entire domestic first-class career at Mumbai. \n",
      "\n",
      "In December 2009, he made his highest career score of 309 (not out) in the Ranji Trophy against Gujarat.\n",
      "\n",
      "[16] In October 2013, upon the retirement of Ajit Agarkar, he was appointed team captain ahead of the 2013â€“14 season.[17]\n"
     ]
    }
   ],
   "source": [
    "with open('../newdoc.txt', 'r') as f:\n",
    "    for line in f:\n",
    "        print(line)"
   ]
  },
  {
   "cell_type": "code",
   "execution_count": 152,
   "metadata": {},
   "outputs": [
    {
     "name": "stdout",
     "output_type": "stream",
     "text": [
      "Rohit Gurunath Sharma (born 30 April 1987) is an Indian international cricketer who plays for Mumbai in domestic cricket and captains Mumbai Indians in the Indian Premier League as a right-handed batsman and an occasional right-arm off break bowler. \n",
      "\n",
      "He is the vice-captain of the Indian national team in limited-overs formats and occasionally captains the team.\n",
      "\n",
      "Outside cricket, Sharma is an active supporter of animal welfare campaigns. \n",
      "\n",
      "He is the official Rhino Ambassador for WWF-India and is a member of People for the Ethical Treatment of Animals (PETA). \n",
      "\n",
      "He has worked with PETA in its campaign to raise awareness of the plight of homeless cats and dogs in India.\n",
      "\n"
     ]
    }
   ],
   "source": [
    "# Other way to print everything line by line\n",
    "with open('../newdoc.txt', 'r') as f:\n",
    "    for line in f:\n",
    "        print(line)"
   ]
  },
  {
   "cell_type": "code",
   "execution_count": 155,
   "metadata": {},
   "outputs": [
    {
     "name": "stdout",
     "output_type": "stream",
     "text": [
      "Fisrt 100 chars: \n",
      "Rohit Gurunath Sharma (born 30 April 1987) is an Indian international cricketer who plays for Mumbai\n",
      "Next 100 chars: \n",
      " in domestic cricket and captains Mumbai Indians in the Indian Premier League as a right-handed bats\n"
     ]
    }
   ],
   "source": [
    "# Reading first 200 contents/chars \n",
    "with open('../newdoc.txt', 'r') as f:\n",
    "    print('Fisrt 100 chars: ')\n",
    "    print(f.read(100))\n",
    "    print('Next 100 chars: ')\n",
    "    print(f.read(100))"
   ]
  },
  {
   "cell_type": "code",
   "execution_count": 156,
   "metadata": {},
   "outputs": [
    {
     "name": "stdout",
     "output_type": "stream",
     "text": [
      "123\n"
     ]
    }
   ],
   "source": [
    "# To know at what point the pointer lines after reading n chars, we use tell() method\n",
    "with open('../newdoc.txt', 'r') as f:\n",
    "    f.read(123)\n",
    "    print(f.tell())"
   ]
  },
  {
   "cell_type": "code",
   "execution_count": 163,
   "metadata": {},
   "outputs": [
    {
     "name": "stdout",
     "output_type": "stream",
     "text": [
      "Rohit Gurunath Sharma (born 30 April 1987) is an Indian international cricketer who plays for Mumbai\n",
      "100\n",
      "Rohit Gurunath Sharma (born 30 April 1987) is an Indian international cricketer who plays for Mumbai\n",
      "12\n"
     ]
    }
   ],
   "source": [
    "# We can manipulate the position using seek() method\n",
    "with open('../newdoc.txt', 'r') as f:\n",
    "    print(f.read(100))\n",
    "    print(f.tell())\n",
    "    f.seek(0) # here we kept the starting point againt to the zero, so the contents from 0th position gets printed again\n",
    "    print(f.read(100))\n",
    "    f.seek(12)\n",
    "    print(f.tell())"
   ]
  },
  {
   "cell_type": "code",
   "execution_count": 173,
   "metadata": {},
   "outputs": [
    {
     "name": "stdout",
     "output_type": "stream",
     "text": [
      "hello world!\n"
     ]
    }
   ],
   "source": [
    "# Now let's open the file in write mode\n",
    "with open('../newdoc1.txt', 'w') as f:\n",
    "    f.write('hello world!')\n",
    "    \n",
    "# Lets check if the contents are written\n",
    "with open('../newdoc1.txt', 'r') as f:\n",
    "    print(f.read())"
   ]
  },
  {
   "cell_type": "code",
   "execution_count": 180,
   "metadata": {},
   "outputs": [
    {
     "name": "stdout",
     "output_type": "stream",
     "text": [
      "hello \n"
     ]
    }
   ],
   "source": [
    "# Now let's use seek method to write multiple lines\n",
    "with open('../newdoc1.txt', 'w') as f:\n",
    "    f.write('world!')\n",
    "    f.seek(0)\n",
    "    f.write('hello ')\n",
    "    \n",
    "# Lets check if the contents are written\n",
    "with open('../newdoc1.txt', 'r') as f:\n",
    "    print(f.read())"
   ]
  },
  {
   "cell_type": "code",
   "execution_count": 181,
   "metadata": {},
   "outputs": [
    {
     "name": "stdout",
     "output_type": "stream",
     "text": [
      "hello world!\n"
     ]
    }
   ],
   "source": [
    "# use 'a' mode to append to the file\n",
    "with open('../newdoc1.txt', 'a') as f:\n",
    "    f.write('world!')\n",
    "    \n",
    "# Lets check if the contents are written\n",
    "with open('../newdoc1.txt', 'r') as f:\n",
    "    print(f.read())"
   ]
  },
  {
   "cell_type": "code",
   "execution_count": 187,
   "metadata": {},
   "outputs": [
    {
     "name": "stdout",
     "output_type": "stream",
     "text": [
      "Hello world!\n",
      "How are you !\n"
     ]
    }
   ],
   "source": [
    "# Let's perform both read and write operations at same time\n",
    "with open('../newdoc1.txt', 'r') as rf:\n",
    "    with open('../newdoc1.txt', 'w') as wf:\n",
    "        wf.write('Hello world!')\n",
    "        wf.write('\\n')\n",
    "        wf.write('How are you !')\n",
    "    print(rf.read())"
   ]
  },
  {
   "cell_type": "code",
   "execution_count": 192,
   "metadata": {},
   "outputs": [],
   "source": [
    "# Copying image contents to another image\n",
    "with open ('automobile/000131.jpg', 'rb') as rf:\n",
    "    with open ('copied.jpg', 'wb') as wf:\n",
    "        chunk_size = 4096\n",
    "        rf_chunk = rf.read(chunk_size)\n",
    "        while len(rf_chunk) > 0:\n",
    "            wf.write(rf_chunk)\n",
    "            rf_chunk = rf.read(chunk_size)"
   ]
  },
  {
   "cell_type": "code",
   "execution_count": 200,
   "metadata": {},
   "outputs": [
    {
     "data": {
      "text/plain": [
       "['adults',\n",
       " 'Advertising.csv',\n",
       " 'automobile',\n",
       " 'bulldozer',\n",
       " 'copied.jpg',\n",
       " 'DCOILBRENTEU.csv',\n",
       " 'iris-Dataset.csv',\n",
       " 'kc_house_data.csv',\n",
       " 'Mall_Customers.csv',\n",
       " 'plane',\n",
       " 'Realestate.csv',\n",
       " 'SMSSpamCollection',\n",
       " 'test_catvnoncat.h5',\n",
       " 'train',\n",
       " 'train_catvnoncat.h5',\n",
       " 'tweettrain.csv',\n",
       " 'Wholesale-customers-data.csv']"
      ]
     },
     "execution_count": 200,
     "metadata": {},
     "output_type": "execute_result"
    }
   ],
   "source": [
    "# There you go copied.jpg file has been created\n",
    "os.listdir()"
   ]
  },
  {
   "cell_type": "markdown",
   "metadata": {},
   "source": [
    "# Thank you"
   ]
  }
 ],
 "metadata": {
  "kernelspec": {
   "display_name": "Python 3",
   "language": "python",
   "name": "python3"
  },
  "language_info": {
   "codemirror_mode": {
    "name": "ipython",
    "version": 3
   },
   "file_extension": ".py",
   "mimetype": "text/x-python",
   "name": "python",
   "nbconvert_exporter": "python",
   "pygments_lexer": "ipython3",
   "version": "3.7.3"
  }
 },
 "nbformat": 4,
 "nbformat_minor": 4
}
